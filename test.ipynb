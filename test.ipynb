{
 "cells": [
  {
   "cell_type": "code",
   "execution_count": 4,
   "metadata": {},
   "outputs": [
    {
     "data": {
      "text/html": [
       "<div>\n",
       "<style scoped>\n",
       "    .dataframe tbody tr th:only-of-type {\n",
       "        vertical-align: middle;\n",
       "    }\n",
       "\n",
       "    .dataframe tbody tr th {\n",
       "        vertical-align: top;\n",
       "    }\n",
       "\n",
       "    .dataframe thead th {\n",
       "        text-align: right;\n",
       "    }\n",
       "</style>\n",
       "<table border=\"1\" class=\"dataframe\">\n",
       "  <thead>\n",
       "    <tr style=\"text-align: right;\">\n",
       "      <th></th>\n",
       "      <th>carat</th>\n",
       "      <th>clarity</th>\n",
       "      <th>color</th>\n",
       "      <th>cut</th>\n",
       "      <th>x dimension</th>\n",
       "      <th>y dimension</th>\n",
       "      <th>z dimension</th>\n",
       "      <th>depth</th>\n",
       "      <th>table</th>\n",
       "      <th>price</th>\n",
       "    </tr>\n",
       "  </thead>\n",
       "  <tbody>\n",
       "    <tr>\n",
       "      <th>0</th>\n",
       "      <td>0.50</td>\n",
       "      <td>IF</td>\n",
       "      <td>D</td>\n",
       "      <td>Ideal</td>\n",
       "      <td>5.1</td>\n",
       "      <td>5.15</td>\n",
       "      <td>3.2</td>\n",
       "      <td>61.5</td>\n",
       "      <td></td>\n",
       "      <td>3000</td>\n",
       "    </tr>\n",
       "    <tr>\n",
       "      <th>1</th>\n",
       "      <td>0.70</td>\n",
       "      <td>vvs2</td>\n",
       "      <td>E</td>\n",
       "      <td>premium</td>\n",
       "      <td>5.7</td>\n",
       "      <td></td>\n",
       "      <td>3.52</td>\n",
       "      <td>62</td>\n",
       "      <td>59</td>\n",
       "      <td>4500</td>\n",
       "    </tr>\n",
       "    <tr>\n",
       "      <th>2</th>\n",
       "      <td>NaN</td>\n",
       "      <td>Si2</td>\n",
       "      <td>h</td>\n",
       "      <td>Good</td>\n",
       "      <td>4.3</td>\n",
       "      <td>4.31</td>\n",
       "      <td></td>\n",
       "      <td>62.3</td>\n",
       "      <td>56</td>\n",
       "      <td>700</td>\n",
       "    </tr>\n",
       "    <tr>\n",
       "      <th>3</th>\n",
       "      <td>1.20</td>\n",
       "      <td>if</td>\n",
       "      <td>d</td>\n",
       "      <td>ideal</td>\n",
       "      <td></td>\n",
       "      <td>6.82</td>\n",
       "      <td>4.2</td>\n",
       "      <td>61.7</td>\n",
       "      <td>58</td>\n",
       "      <td>10000</td>\n",
       "    </tr>\n",
       "    <tr>\n",
       "      <th>4</th>\n",
       "      <td>0.90</td>\n",
       "      <td>I1</td>\n",
       "      <td>J</td>\n",
       "      <td>Fair</td>\n",
       "      <td>6</td>\n",
       "      <td></td>\n",
       "      <td>3.7</td>\n",
       "      <td>61.7</td>\n",
       "      <td></td>\n",
       "      <td>2400</td>\n",
       "    </tr>\n",
       "    <tr>\n",
       "      <th>...</th>\n",
       "      <td>...</td>\n",
       "      <td>...</td>\n",
       "      <td>...</td>\n",
       "      <td>...</td>\n",
       "      <td>...</td>\n",
       "      <td>...</td>\n",
       "      <td>...</td>\n",
       "      <td>...</td>\n",
       "      <td>...</td>\n",
       "      <td>...</td>\n",
       "    </tr>\n",
       "    <tr>\n",
       "      <th>195</th>\n",
       "      <td>0.45</td>\n",
       "      <td>si1</td>\n",
       "      <td>F</td>\n",
       "      <td>very good</td>\n",
       "      <td>4.9</td>\n",
       "      <td>4.89</td>\n",
       "      <td></td>\n",
       "      <td>62.4</td>\n",
       "      <td>59</td>\n",
       "      <td>2300</td>\n",
       "    </tr>\n",
       "    <tr>\n",
       "      <th>196</th>\n",
       "      <td>1.25</td>\n",
       "      <td>VVS2</td>\n",
       "      <td>H</td>\n",
       "      <td>Good</td>\n",
       "      <td>6.9</td>\n",
       "      <td></td>\n",
       "      <td>4.27</td>\n",
       "      <td></td>\n",
       "      <td>55</td>\n",
       "      <td>10400</td>\n",
       "    </tr>\n",
       "    <tr>\n",
       "      <th>197</th>\n",
       "      <td>0.55</td>\n",
       "      <td>i1</td>\n",
       "      <td>I</td>\n",
       "      <td>Premium</td>\n",
       "      <td>5.3</td>\n",
       "      <td></td>\n",
       "      <td>3.28</td>\n",
       "      <td>62.3</td>\n",
       "      <td>57</td>\n",
       "      <td>150000</td>\n",
       "    </tr>\n",
       "    <tr>\n",
       "      <th>198</th>\n",
       "      <td>0.85</td>\n",
       "      <td>Si2</td>\n",
       "      <td>E</td>\n",
       "      <td>fair</td>\n",
       "      <td>6.1</td>\n",
       "      <td>6.13</td>\n",
       "      <td>3.78</td>\n",
       "      <td></td>\n",
       "      <td>58</td>\n",
       "      <td>6300</td>\n",
       "    </tr>\n",
       "    <tr>\n",
       "      <th>199</th>\n",
       "      <td>NaN</td>\n",
       "      <td>VVS1</td>\n",
       "      <td>G</td>\n",
       "      <td>Very good</td>\n",
       "      <td>6.4</td>\n",
       "      <td>6.43</td>\n",
       "      <td>3.97</td>\n",
       "      <td>62.5</td>\n",
       "      <td></td>\n",
       "      <td>7500</td>\n",
       "    </tr>\n",
       "  </tbody>\n",
       "</table>\n",
       "<p>200 rows × 10 columns</p>\n",
       "</div>"
      ],
      "text/plain": [
       "     carat  clarity  color         cut  x dimension  y dimension  z dimension  \\\n",
       "0     0.50       IF      D       Ideal          5.1         5.15          3.2   \n",
       "1     0.70     vvs2      E     premium          5.7                      3.52   \n",
       "2      NaN      Si2      h        Good          4.3         4.31                \n",
       "3     1.20       if      d       ideal                      6.82          4.2   \n",
       "4     0.90       I1      J        Fair            6                       3.7   \n",
       "..     ...      ...    ...         ...          ...          ...          ...   \n",
       "195   0.45      si1      F   very good          4.9         4.89                \n",
       "196   1.25     VVS2      H        Good          6.9                      4.27   \n",
       "197   0.55       i1      I     Premium          5.3                      3.28   \n",
       "198   0.85      Si2      E        fair          6.1         6.13         3.78   \n",
       "199    NaN     VVS1      G   Very good          6.4         6.43         3.97   \n",
       "\n",
       "     depth  table   price  \n",
       "0     61.5           3000  \n",
       "1       62     59    4500  \n",
       "2     62.3     56     700  \n",
       "3     61.7     58   10000  \n",
       "4     61.7           2400  \n",
       "..     ...    ...     ...  \n",
       "195   62.4     59    2300  \n",
       "196            55   10400  \n",
       "197   62.3     57  150000  \n",
       "198            58    6300  \n",
       "199   62.5           7500  \n",
       "\n",
       "[200 rows x 10 columns]"
      ]
     },
     "execution_count": 4,
     "metadata": {},
     "output_type": "execute_result"
    }
   ],
   "source": [
    "import pandas as pd\n",
    "import numpy as np\n",
    "\n",
    "df = pd.read_csv(\"data\\messy_data.csv\")\n",
    "df"
   ]
  },
  {
   "cell_type": "markdown",
   "metadata": {},
   "source": [
    "remove all whitespace characters from columns names, and change x,y,z dimentions whitespaces to '_'"
   ]
  },
  {
   "cell_type": "code",
   "execution_count": 5,
   "metadata": {},
   "outputs": [],
   "source": [
    "df.columns=df.columns.str.replace(' ','')\n",
    "df.rename(columns={\n",
    "    'xdimension':'x_dimension',\n",
    "    'ydimension':'y_dimension',\n",
    "    'zdimension':'z_dimension',\n",
    "},inplace=True)"
   ]
  },
  {
   "cell_type": "markdown",
   "metadata": {},
   "source": [
    "check how many fields are nan"
   ]
  },
  {
   "cell_type": "code",
   "execution_count": 6,
   "metadata": {},
   "outputs": [
    {
     "data": {
      "text/plain": [
       "carat          50\n",
       "clarity         0\n",
       "color           0\n",
       "cut             0\n",
       "x_dimension     0\n",
       "y_dimension     0\n",
       "z_dimension     0\n",
       "depth           0\n",
       "table           0\n",
       "price           0\n",
       "dtype: int64"
      ]
     },
     "execution_count": 6,
     "metadata": {},
     "output_type": "execute_result"
    }
   ],
   "source": [
    "df.isna().sum()"
   ]
  },
  {
   "cell_type": "markdown",
   "metadata": {},
   "source": [
    "lets replace empty strings with NaNs"
   ]
  },
  {
   "cell_type": "code",
   "execution_count": 7,
   "metadata": {},
   "outputs": [
    {
     "data": {
      "text/plain": [
       "carat          50\n",
       "clarity         0\n",
       "color           0\n",
       "cut             0\n",
       "x_dimension     3\n",
       "y_dimension    64\n",
       "z_dimension    48\n",
       "depth          67\n",
       "table          33\n",
       "price           4\n",
       "dtype: int64"
      ]
     },
     "execution_count": 7,
     "metadata": {},
     "output_type": "execute_result"
    }
   ],
   "source": [
    "df=df.replace(r'^\\s*$', np.nan, regex=True)\n",
    "df.isna().sum()\n"
   ]
  },
  {
   "cell_type": "markdown",
   "metadata": {},
   "source": [
    "lets check columns types"
   ]
  },
  {
   "cell_type": "code",
   "execution_count": 8,
   "metadata": {},
   "outputs": [
    {
     "data": {
      "text/plain": [
       "carat          float64\n",
       "clarity         object\n",
       "color           object\n",
       "cut             object\n",
       "x_dimension     object\n",
       "y_dimension     object\n",
       "z_dimension     object\n",
       "depth           object\n",
       "table           object\n",
       "price           object\n",
       "dtype: object"
      ]
     },
     "execution_count": 8,
     "metadata": {},
     "output_type": "execute_result"
    }
   ],
   "source": [
    "df.dtypes"
   ]
  },
  {
   "cell_type": "markdown",
   "metadata": {},
   "source": [
    "that`s not right, lets fix it"
   ]
  },
  {
   "cell_type": "code",
   "execution_count": 9,
   "metadata": {},
   "outputs": [],
   "source": [
    "df['clarity']=df['clarity'].astype('category')\n",
    "df['color']=df['color'].astype('category')\n",
    "df['cut']=df['cut'].astype('category')\n",
    "df['x_dimension']=df['x_dimension'].astype('float64')\n",
    "df['y_dimension']=df['y_dimension'].astype('float64')\n",
    "df['z_dimension']=df['z_dimension'].astype('float64')\n",
    "df['depth']=df['depth'].astype('float64')\n",
    "df['table']=df['table'].astype('float64')\n",
    "df['price']=df['price'].astype('float64')"
   ]
  },
  {
   "cell_type": "markdown",
   "metadata": {},
   "source": [
    "seems legit. now lets remove all duplicates"
   ]
  },
  {
   "cell_type": "code",
   "execution_count": 10,
   "metadata": {},
   "outputs": [
    {
     "name": "stdout",
     "output_type": "stream",
     "text": [
      "removed 0 duplicated rows\n"
     ]
    }
   ],
   "source": [
    "pre_duplicate_removal_size =len(df)\n",
    "df.drop_duplicates()\n",
    "print(f'removed {len(df)-pre_duplicate_removal_size} duplicated rows')"
   ]
  },
  {
   "cell_type": "markdown",
   "metadata": {},
   "source": [
    "no duplicates, that good I suppose. now lets fil those NaNs"
   ]
  },
  {
   "cell_type": "code",
   "execution_count": 11,
   "metadata": {},
   "outputs": [
    {
     "data": {
      "text/plain": [
       "carat          50\n",
       "clarity         0\n",
       "color           0\n",
       "cut             0\n",
       "x_dimension     3\n",
       "y_dimension    64\n",
       "z_dimension    48\n",
       "depth          67\n",
       "table          33\n",
       "price           4\n",
       "dtype: int64"
      ]
     },
     "execution_count": 11,
     "metadata": {},
     "output_type": "execute_result"
    }
   ],
   "source": [
    "df.isna().sum()"
   ]
  },
  {
   "cell_type": "code",
   "execution_count": 12,
   "metadata": {},
   "outputs": [
    {
     "data": {
      "text/plain": [
       "carat          0\n",
       "clarity        0\n",
       "color          0\n",
       "cut            0\n",
       "x_dimension    0\n",
       "y_dimension    0\n",
       "z_dimension    0\n",
       "depth          0\n",
       "table          0\n",
       "price          0\n",
       "dtype: int64"
      ]
     },
     "execution_count": 12,
     "metadata": {},
     "output_type": "execute_result"
    }
   ],
   "source": [
    "#those two can be mean, overall size of each is less than 5% of data frame\n",
    "df['price'].fillna(df['price'].mean(), inplace=True)\n",
    "df['x_dimension'].fillna(df['x_dimension'].mean(), inplace=True)\n",
    "\n",
    "#lets fil those with median\n",
    "df['y_dimension'].fillna(df['y_dimension'].median(), inplace=True)\n",
    "df['z_dimension'].fillna(df['z_dimension'].median(), inplace=True)\n",
    "df['depth'].fillna(df['depth'].median(), inplace=True)\n",
    "\n",
    "#and carat with most frequent\n",
    "df['carat'].fillna(df['carat'].mode().iloc[0], inplace=True)\n",
    "df['table'].fillna(df['table'].mode().iloc[0], inplace=True)\n",
    "df.isna().sum()"
   ]
  },
  {
   "cell_type": "markdown",
   "metadata": {},
   "source": [
    "move all category names to upper, thus removing human typing errors"
   ]
  },
  {
   "cell_type": "code",
   "execution_count": 13,
   "metadata": {},
   "outputs": [
    {
     "data": {
      "text/html": [
       "<div>\n",
       "<style scoped>\n",
       "    .dataframe tbody tr th:only-of-type {\n",
       "        vertical-align: middle;\n",
       "    }\n",
       "\n",
       "    .dataframe tbody tr th {\n",
       "        vertical-align: top;\n",
       "    }\n",
       "\n",
       "    .dataframe thead th {\n",
       "        text-align: right;\n",
       "    }\n",
       "</style>\n",
       "<table border=\"1\" class=\"dataframe\">\n",
       "  <thead>\n",
       "    <tr style=\"text-align: right;\">\n",
       "      <th></th>\n",
       "      <th>carat</th>\n",
       "      <th>clarity</th>\n",
       "      <th>color</th>\n",
       "      <th>cut</th>\n",
       "      <th>x_dimension</th>\n",
       "      <th>y_dimension</th>\n",
       "      <th>z_dimension</th>\n",
       "      <th>depth</th>\n",
       "      <th>table</th>\n",
       "      <th>price</th>\n",
       "    </tr>\n",
       "  </thead>\n",
       "  <tbody>\n",
       "    <tr>\n",
       "      <th>0</th>\n",
       "      <td>0.50</td>\n",
       "      <td>IF</td>\n",
       "      <td>D</td>\n",
       "      <td>IDEAL</td>\n",
       "      <td>5.100000</td>\n",
       "      <td>5.15</td>\n",
       "      <td>3.200</td>\n",
       "      <td>61.5</td>\n",
       "      <td>56.0</td>\n",
       "      <td>3000.0</td>\n",
       "    </tr>\n",
       "    <tr>\n",
       "      <th>1</th>\n",
       "      <td>0.70</td>\n",
       "      <td>VVS2</td>\n",
       "      <td>E</td>\n",
       "      <td>PREMIUM</td>\n",
       "      <td>5.700000</td>\n",
       "      <td>5.85</td>\n",
       "      <td>3.520</td>\n",
       "      <td>62.0</td>\n",
       "      <td>59.0</td>\n",
       "      <td>4500.0</td>\n",
       "    </tr>\n",
       "    <tr>\n",
       "      <th>2</th>\n",
       "      <td>0.50</td>\n",
       "      <td>SI2</td>\n",
       "      <td>H</td>\n",
       "      <td>GOOD</td>\n",
       "      <td>4.300000</td>\n",
       "      <td>4.31</td>\n",
       "      <td>3.715</td>\n",
       "      <td>62.3</td>\n",
       "      <td>56.0</td>\n",
       "      <td>700.0</td>\n",
       "    </tr>\n",
       "    <tr>\n",
       "      <th>3</th>\n",
       "      <td>1.20</td>\n",
       "      <td>IF</td>\n",
       "      <td>D</td>\n",
       "      <td>IDEAL</td>\n",
       "      <td>5.885787</td>\n",
       "      <td>6.82</td>\n",
       "      <td>4.200</td>\n",
       "      <td>61.7</td>\n",
       "      <td>58.0</td>\n",
       "      <td>10000.0</td>\n",
       "    </tr>\n",
       "    <tr>\n",
       "      <th>4</th>\n",
       "      <td>0.90</td>\n",
       "      <td>I1</td>\n",
       "      <td>J</td>\n",
       "      <td>FAIR</td>\n",
       "      <td>6.000000</td>\n",
       "      <td>5.85</td>\n",
       "      <td>3.700</td>\n",
       "      <td>61.7</td>\n",
       "      <td>56.0</td>\n",
       "      <td>2400.0</td>\n",
       "    </tr>\n",
       "    <tr>\n",
       "      <th>...</th>\n",
       "      <td>...</td>\n",
       "      <td>...</td>\n",
       "      <td>...</td>\n",
       "      <td>...</td>\n",
       "      <td>...</td>\n",
       "      <td>...</td>\n",
       "      <td>...</td>\n",
       "      <td>...</td>\n",
       "      <td>...</td>\n",
       "      <td>...</td>\n",
       "    </tr>\n",
       "    <tr>\n",
       "      <th>195</th>\n",
       "      <td>0.45</td>\n",
       "      <td>SI1</td>\n",
       "      <td>F</td>\n",
       "      <td>VERY GOOD</td>\n",
       "      <td>4.900000</td>\n",
       "      <td>4.89</td>\n",
       "      <td>3.715</td>\n",
       "      <td>62.4</td>\n",
       "      <td>59.0</td>\n",
       "      <td>2300.0</td>\n",
       "    </tr>\n",
       "    <tr>\n",
       "      <th>196</th>\n",
       "      <td>1.25</td>\n",
       "      <td>VVS2</td>\n",
       "      <td>H</td>\n",
       "      <td>GOOD</td>\n",
       "      <td>6.900000</td>\n",
       "      <td>5.85</td>\n",
       "      <td>4.270</td>\n",
       "      <td>62.3</td>\n",
       "      <td>55.0</td>\n",
       "      <td>10400.0</td>\n",
       "    </tr>\n",
       "    <tr>\n",
       "      <th>197</th>\n",
       "      <td>0.55</td>\n",
       "      <td>I1</td>\n",
       "      <td>I</td>\n",
       "      <td>PREMIUM</td>\n",
       "      <td>5.300000</td>\n",
       "      <td>5.85</td>\n",
       "      <td>3.280</td>\n",
       "      <td>62.3</td>\n",
       "      <td>57.0</td>\n",
       "      <td>150000.0</td>\n",
       "    </tr>\n",
       "    <tr>\n",
       "      <th>198</th>\n",
       "      <td>0.85</td>\n",
       "      <td>SI2</td>\n",
       "      <td>E</td>\n",
       "      <td>FAIR</td>\n",
       "      <td>6.100000</td>\n",
       "      <td>6.13</td>\n",
       "      <td>3.780</td>\n",
       "      <td>62.3</td>\n",
       "      <td>58.0</td>\n",
       "      <td>6300.0</td>\n",
       "    </tr>\n",
       "    <tr>\n",
       "      <th>199</th>\n",
       "      <td>0.50</td>\n",
       "      <td>VVS1</td>\n",
       "      <td>G</td>\n",
       "      <td>VERY GOOD</td>\n",
       "      <td>6.400000</td>\n",
       "      <td>6.43</td>\n",
       "      <td>3.970</td>\n",
       "      <td>62.5</td>\n",
       "      <td>56.0</td>\n",
       "      <td>7500.0</td>\n",
       "    </tr>\n",
       "  </tbody>\n",
       "</table>\n",
       "<p>200 rows × 10 columns</p>\n",
       "</div>"
      ],
      "text/plain": [
       "     carat clarity color         cut  x_dimension  y_dimension  z_dimension  \\\n",
       "0     0.50      IF     D       IDEAL     5.100000         5.15        3.200   \n",
       "1     0.70    VVS2     E     PREMIUM     5.700000         5.85        3.520   \n",
       "2     0.50     SI2     H        GOOD     4.300000         4.31        3.715   \n",
       "3     1.20      IF     D       IDEAL     5.885787         6.82        4.200   \n",
       "4     0.90      I1     J        FAIR     6.000000         5.85        3.700   \n",
       "..     ...     ...   ...         ...          ...          ...          ...   \n",
       "195   0.45     SI1     F   VERY GOOD     4.900000         4.89        3.715   \n",
       "196   1.25    VVS2     H        GOOD     6.900000         5.85        4.270   \n",
       "197   0.55      I1     I     PREMIUM     5.300000         5.85        3.280   \n",
       "198   0.85     SI2     E        FAIR     6.100000         6.13        3.780   \n",
       "199   0.50    VVS1     G   VERY GOOD     6.400000         6.43        3.970   \n",
       "\n",
       "     depth  table     price  \n",
       "0     61.5   56.0    3000.0  \n",
       "1     62.0   59.0    4500.0  \n",
       "2     62.3   56.0     700.0  \n",
       "3     61.7   58.0   10000.0  \n",
       "4     61.7   56.0    2400.0  \n",
       "..     ...    ...       ...  \n",
       "195   62.4   59.0    2300.0  \n",
       "196   62.3   55.0   10400.0  \n",
       "197   62.3   57.0  150000.0  \n",
       "198   62.3   58.0    6300.0  \n",
       "199   62.5   56.0    7500.0  \n",
       "\n",
       "[200 rows x 10 columns]"
      ]
     },
     "execution_count": 13,
     "metadata": {},
     "output_type": "execute_result"
    }
   ],
   "source": [
    "df['color']=df['color'].str.upper()\n",
    "df['cut']=df['cut'].str.upper()\n",
    "df['clarity']=df['clarity'].str.upper()\n",
    "df"
   ]
  },
  {
   "cell_type": "markdown",
   "metadata": {},
   "source": [
    "now lets check for outliers"
   ]
  },
  {
   "cell_type": "code",
   "execution_count": 14,
   "metadata": {},
   "outputs": [
    {
     "data": {
      "text/plain": [
       "count    200.00000\n",
       "mean       0.72425\n",
       "std        0.30724\n",
       "min        0.20000\n",
       "25%        0.50000\n",
       "50%        0.57500\n",
       "75%        0.95000\n",
       "max        1.60000\n",
       "Name: carat, dtype: float64"
      ]
     },
     "execution_count": 14,
     "metadata": {},
     "output_type": "execute_result"
    }
   ],
   "source": [
    "df['carat'].describe()"
   ]
  },
  {
   "cell_type": "code",
   "execution_count": 15,
   "metadata": {},
   "outputs": [
    {
     "data": {
      "text/plain": [
       "count    200.000000\n",
       "mean       5.885787\n",
       "std        0.764344\n",
       "min        3.900000\n",
       "25%        5.300000\n",
       "50%        5.900000\n",
       "75%        6.500000\n",
       "max        7.300000\n",
       "Name: x_dimension, dtype: float64"
      ]
     },
     "execution_count": 15,
     "metadata": {},
     "output_type": "execute_result"
    }
   ],
   "source": [
    "df['x_dimension'].describe()"
   ]
  },
  {
   "cell_type": "code",
   "execution_count": 16,
   "metadata": {},
   "outputs": [
    {
     "data": {
      "text/plain": [
       "count    200.000000\n",
       "mean       5.836200\n",
       "std        0.632138\n",
       "min        3.890000\n",
       "25%        5.580000\n",
       "50%        5.850000\n",
       "75%        6.165000\n",
       "max        7.280000\n",
       "Name: y_dimension, dtype: float64"
      ]
     },
     "execution_count": 16,
     "metadata": {},
     "output_type": "execute_result"
    }
   ],
   "source": [
    "df['y_dimension'].describe()"
   ]
  },
  {
   "cell_type": "code",
   "execution_count": 17,
   "metadata": {},
   "outputs": [
    {
     "data": {
      "text/plain": [
       "count    200.000000\n",
       "mean       3.699550\n",
       "std        0.402912\n",
       "min        2.410000\n",
       "25%        3.477500\n",
       "50%        3.715000\n",
       "75%        3.970000\n",
       "max        4.500000\n",
       "Name: z_dimension, dtype: float64"
      ]
     },
     "execution_count": 17,
     "metadata": {},
     "output_type": "execute_result"
    }
   ],
   "source": [
    "df['z_dimension'].describe()"
   ]
  },
  {
   "cell_type": "code",
   "execution_count": 18,
   "metadata": {},
   "outputs": [
    {
     "data": {
      "text/plain": [
       "count       200.000000\n",
       "mean      11410.714286\n",
       "std       39667.884273\n",
       "min         500.000000\n",
       "25%        2600.000000\n",
       "50%        4450.000000\n",
       "75%        8025.000000\n",
       "max      350000.000000\n",
       "Name: price, dtype: float64"
      ]
     },
     "execution_count": 18,
     "metadata": {},
     "output_type": "execute_result"
    }
   ],
   "source": [
    "df['price'].describe()"
   ]
  },
  {
   "cell_type": "markdown",
   "metadata": {},
   "source": [
    "price and carat should be cleared of outliers, especially price. lets check if price quantile range of 1 to 99 will do the job "
   ]
  },
  {
   "cell_type": "markdown",
   "metadata": {},
   "source": [
    "now for carat, min seems good enought, lets filter max "
   ]
  },
  {
   "cell_type": "code",
   "execution_count": 20,
   "metadata": {},
   "outputs": [
    {
     "data": {
      "text/plain": [
       "count    186.000000\n",
       "mean       0.733602\n",
       "std        0.300742\n",
       "min        0.350000\n",
       "25%        0.500000\n",
       "50%        0.600000\n",
       "75%        0.950000\n",
       "max        1.600000\n",
       "Name: carat, dtype: float64"
      ]
     },
     "execution_count": 20,
     "metadata": {},
     "output_type": "execute_result"
    }
   ],
   "source": [
    "df['carat'].describe()"
   ]
  },
  {
   "cell_type": "code",
   "execution_count": 21,
   "metadata": {},
   "outputs": [
    {
     "name": "stdout",
     "output_type": "stream",
     "text": [
      "quantiles 99 = 1.4150000000000005\n",
      "nope lets go for 95\n",
      "quantiles 95 = 1.3\n"
     ]
    },
    {
     "data": {
      "text/plain": [
       "count    179.000000\n",
       "mean       0.706425\n",
       "std        0.272010\n",
       "min        0.350000\n",
       "25%        0.500000\n",
       "50%        0.600000\n",
       "75%        0.900000\n",
       "max        1.300000\n",
       "Name: carat, dtype: float64"
      ]
     },
     "execution_count": 21,
     "metadata": {},
     "output_type": "execute_result"
    }
   ],
   "source": [
    "high = df['carat'].quantile(0.99)\n",
    "print(f'quantiles 99 = {high}')\n",
    "print('nope lets go for 95')\n",
    "high = df['carat'].quantile(0.95)\n",
    "print(f'quantiles 95 = {high}')\n",
    "df=df[(df['carat']<=high )]\n",
    "df['carat'].describe()"
   ]
  },
  {
   "cell_type": "markdown",
   "metadata": {},
   "source": [
    "how many records do we have now?"
   ]
  },
  {
   "cell_type": "code",
   "execution_count": 22,
   "metadata": {},
   "outputs": [
    {
     "data": {
      "text/plain": [
       "179"
      ]
     },
     "execution_count": 22,
     "metadata": {},
     "output_type": "execute_result"
    }
   ],
   "source": [
    "len(df)"
   ]
  },
  {
   "cell_type": "markdown",
   "metadata": {},
   "source": [
    "lets stay there, difference is smaller that in original data set"
   ]
  }
 ],
 "metadata": {
  "kernelspec": {
   "display_name": "base",
   "language": "python",
   "name": "python3"
  },
  "language_info": {
   "codemirror_mode": {
    "name": "ipython",
    "version": 3
   },
   "file_extension": ".py",
   "mimetype": "text/x-python",
   "name": "python",
   "nbconvert_exporter": "python",
   "pygments_lexer": "ipython3",
   "version": "3.11.5"
  }
 },
 "nbformat": 4,
 "nbformat_minor": 2
}
