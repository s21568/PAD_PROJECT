{
 "cells": [
  {
   "cell_type": "code",
   "execution_count": 91,
   "metadata": {},
   "outputs": [],
   "source": [
    "import numpy as np\n",
    "import pandas as pd\n",
    "import matplotlib.pyplot as plt\n",
    "import seaborn as sns\n",
    "import statsmodels.formula.api as smf\n",
    "\n",
    "\n",
    "df = pd.read_csv(\"data\\messy_data.csv\")"
   ]
  },
  {
   "cell_type": "markdown",
   "metadata": {},
   "source": [
    "how many rows of data we have?"
   ]
  },
  {
   "cell_type": "code",
   "execution_count": 92,
   "metadata": {},
   "outputs": [
    {
     "data": {
      "text/plain": [
       "200"
      ]
     },
     "execution_count": 92,
     "metadata": {},
     "output_type": "execute_result"
    }
   ],
   "source": [
    "len(df)"
   ]
  },
  {
   "cell_type": "markdown",
   "metadata": {},
   "source": [
    "let`s remove all whitespace characters from columns names,\\n and change x,y,z dimentions whitespaces to '_'"
   ]
  },
  {
   "cell_type": "code",
   "execution_count": 93,
   "metadata": {},
   "outputs": [],
   "source": [
    "df.columns=df.columns.str.replace(' ','')\n",
    "df.rename(columns={\n",
    "    'xdimension':'x_dimension',\n",
    "    'ydimension':'y_dimension',\n",
    "    'zdimension':'z_dimension',\n",
    "},inplace=True)"
   ]
  },
  {
   "cell_type": "markdown",
   "metadata": {},
   "source": [
    "we can tell that clarity, color and cut will be category type, let`s check those unique values"
   ]
  },
  {
   "cell_type": "code",
   "execution_count": 94,
   "metadata": {},
   "outputs": [
    {
     "data": {
      "text/plain": [
       "array([' Ideal', ' premium', ' Good', ' ideal', ' Fair', ' very Good',\n",
       "       ' good', ' Very good', ' very good', ' fair', ' Premium',\n",
       "       ' Very Good'], dtype=object)"
      ]
     },
     "execution_count": 94,
     "metadata": {},
     "output_type": "execute_result"
    }
   ],
   "source": [
    "df['clarity'].unique()\n",
    "df['color'].unique()\n",
    "df['cut'].unique()"
   ]
  },
  {
   "cell_type": "markdown",
   "metadata": {},
   "source": [
    "let`s check how many fields are nan"
   ]
  },
  {
   "cell_type": "code",
   "execution_count": 95,
   "metadata": {},
   "outputs": [
    {
     "data": {
      "text/plain": [
       "carat          50\n",
       "clarity         0\n",
       "color           0\n",
       "cut             0\n",
       "x_dimension     0\n",
       "y_dimension     0\n",
       "z_dimension     0\n",
       "depth           0\n",
       "table           0\n",
       "price           0\n",
       "dtype: int64"
      ]
     },
     "execution_count": 95,
     "metadata": {},
     "output_type": "execute_result"
    }
   ],
   "source": [
    "df.isna().sum()"
   ]
  },
  {
   "cell_type": "markdown",
   "metadata": {},
   "source": [
    "that`s strange, let`s replace empty strings with NaNs"
   ]
  },
  {
   "cell_type": "code",
   "execution_count": 96,
   "metadata": {},
   "outputs": [
    {
     "data": {
      "text/plain": [
       "carat          50\n",
       "clarity         0\n",
       "color           0\n",
       "cut             0\n",
       "x_dimension     3\n",
       "y_dimension    64\n",
       "z_dimension    48\n",
       "depth          67\n",
       "table          33\n",
       "price           4\n",
       "dtype: int64"
      ]
     },
     "execution_count": 96,
     "metadata": {},
     "output_type": "execute_result"
    }
   ],
   "source": [
    "df=df.replace(r'^\\s*$', np.nan, regex=True)\n",
    "df.isna().sum()"
   ]
  },
  {
   "cell_type": "markdown",
   "metadata": {},
   "source": [
    "seems more legit, lets check columns types"
   ]
  },
  {
   "cell_type": "code",
   "execution_count": 97,
   "metadata": {},
   "outputs": [
    {
     "data": {
      "text/plain": [
       "carat          float64\n",
       "clarity         object\n",
       "color           object\n",
       "cut             object\n",
       "x_dimension     object\n",
       "y_dimension     object\n",
       "z_dimension     object\n",
       "depth           object\n",
       "table           object\n",
       "price           object\n",
       "dtype: object"
      ]
     },
     "execution_count": 97,
     "metadata": {},
     "output_type": "execute_result"
    }
   ],
   "source": [
    "df.dtypes"
   ]
  },
  {
   "cell_type": "markdown",
   "metadata": {},
   "source": [
    "that`s not right, lets fix it"
   ]
  },
  {
   "cell_type": "code",
   "execution_count": 98,
   "metadata": {},
   "outputs": [
    {
     "data": {
      "text/plain": [
       "carat           float64\n",
       "clarity        category\n",
       "color          category\n",
       "cut            category\n",
       "x_dimension     float64\n",
       "y_dimension     float64\n",
       "z_dimension     float64\n",
       "depth           float64\n",
       "table           float64\n",
       "price           float64\n",
       "dtype: object"
      ]
     },
     "execution_count": 98,
     "metadata": {},
     "output_type": "execute_result"
    }
   ],
   "source": [
    "df['clarity']=df['clarity'].astype('category')\n",
    "df['color']=df['color'].astype('category')\n",
    "df['cut']=df['cut'].astype('category')\n",
    "df['x_dimension']=df['x_dimension'].astype('float64')\n",
    "df['y_dimension']=df['y_dimension'].astype('float64')\n",
    "df['z_dimension']=df['z_dimension'].astype('float64')\n",
    "df['depth']=df['depth'].astype('float64')\n",
    "df['table']=df['table'].astype('float64')\n",
    "df['price']=df['price'].astype('float64')\n",
    "df.dtypes"
   ]
  },
  {
   "cell_type": "markdown",
   "metadata": {},
   "source": [
    "seems legit. now lets remove all duplicates"
   ]
  },
  {
   "cell_type": "code",
   "execution_count": 99,
   "metadata": {},
   "outputs": [
    {
     "name": "stdout",
     "output_type": "stream",
     "text": [
      "removed 0 duplicated rows\n"
     ]
    }
   ],
   "source": [
    "pre_duplicate_removal_size =len(df)\n",
    "df.drop_duplicates()\n",
    "print(f'removed {len(df)-pre_duplicate_removal_size} duplicated rows')\n"
   ]
  },
  {
   "cell_type": "markdown",
   "metadata": {},
   "source": [
    "pre_duplicate_removal_size =len(df)\n",
    "df.drop_duplicates()"
   ]
  },
  {
   "cell_type": "markdown",
   "metadata": {},
   "source": [
    "no duplicates, that good I suppose. now lets fil those NaNs"
   ]
  },
  {
   "cell_type": "code",
   "execution_count": 100,
   "metadata": {},
   "outputs": [
    {
     "data": {
      "text/plain": [
       "carat          50\n",
       "clarity         0\n",
       "color           0\n",
       "cut             0\n",
       "x_dimension     3\n",
       "y_dimension    64\n",
       "z_dimension    48\n",
       "depth          67\n",
       "table          33\n",
       "price           4\n",
       "dtype: int64"
      ]
     },
     "execution_count": 100,
     "metadata": {},
     "output_type": "execute_result"
    }
   ],
   "source": [
    "df.isna().sum()"
   ]
  },
  {
   "cell_type": "code",
   "execution_count": 101,
   "metadata": {},
   "outputs": [
    {
     "data": {
      "text/plain": [
       "carat          0\n",
       "clarity        0\n",
       "color          0\n",
       "cut            0\n",
       "x_dimension    0\n",
       "y_dimension    0\n",
       "z_dimension    0\n",
       "depth          0\n",
       "table          0\n",
       "price          0\n",
       "dtype: int64"
      ]
     },
     "execution_count": 101,
     "metadata": {},
     "output_type": "execute_result"
    }
   ],
   "source": [
    "#those two can be mean, overall size of each is less than 5% of data frame\n",
    "df['price'].fillna(df['price'].mean(), inplace=True)\n",
    "df['x_dimension'].fillna(df['x_dimension'].mean(), inplace=True)\n",
    "\n",
    "#lets fil those with median\n",
    "df['y_dimension'].fillna(df['y_dimension'].median(), inplace=True)\n",
    "df['z_dimension'].fillna(df['z_dimension'].median(), inplace=True)\n",
    "df['depth'].fillna(df['depth'].median(), inplace=True)\n",
    "\n",
    "#and carat with most frequent\n",
    "df['carat'].fillna(df['carat'].mode().iloc[0], inplace=True)\n",
    "df['table'].fillna(df['table'].mode().iloc[0], inplace=True)\n",
    "df.isna().sum()"
   ]
  },
  {
   "cell_type": "markdown",
   "metadata": {},
   "source": [
    "move all category names to upper, thus removing human typing errors"
   ]
  },
  {
   "cell_type": "code",
   "execution_count": 102,
   "metadata": {},
   "outputs": [
    {
     "data": {
      "text/html": [
       "<div>\n",
       "<style scoped>\n",
       "    .dataframe tbody tr th:only-of-type {\n",
       "        vertical-align: middle;\n",
       "    }\n",
       "\n",
       "    .dataframe tbody tr th {\n",
       "        vertical-align: top;\n",
       "    }\n",
       "\n",
       "    .dataframe thead th {\n",
       "        text-align: right;\n",
       "    }\n",
       "</style>\n",
       "<table border=\"1\" class=\"dataframe\">\n",
       "  <thead>\n",
       "    <tr style=\"text-align: right;\">\n",
       "      <th></th>\n",
       "      <th>carat</th>\n",
       "      <th>clarity</th>\n",
       "      <th>color</th>\n",
       "      <th>cut</th>\n",
       "      <th>x_dimension</th>\n",
       "      <th>y_dimension</th>\n",
       "      <th>z_dimension</th>\n",
       "      <th>depth</th>\n",
       "      <th>table</th>\n",
       "      <th>price</th>\n",
       "    </tr>\n",
       "  </thead>\n",
       "  <tbody>\n",
       "    <tr>\n",
       "      <th>0</th>\n",
       "      <td>0.50</td>\n",
       "      <td>IF</td>\n",
       "      <td>D</td>\n",
       "      <td>IDEAL</td>\n",
       "      <td>5.100000</td>\n",
       "      <td>5.15</td>\n",
       "      <td>3.200</td>\n",
       "      <td>61.5</td>\n",
       "      <td>56.0</td>\n",
       "      <td>3000.0</td>\n",
       "    </tr>\n",
       "    <tr>\n",
       "      <th>1</th>\n",
       "      <td>0.70</td>\n",
       "      <td>VVS2</td>\n",
       "      <td>E</td>\n",
       "      <td>PREMIUM</td>\n",
       "      <td>5.700000</td>\n",
       "      <td>5.85</td>\n",
       "      <td>3.520</td>\n",
       "      <td>62.0</td>\n",
       "      <td>59.0</td>\n",
       "      <td>4500.0</td>\n",
       "    </tr>\n",
       "    <tr>\n",
       "      <th>2</th>\n",
       "      <td>0.50</td>\n",
       "      <td>SI2</td>\n",
       "      <td>H</td>\n",
       "      <td>GOOD</td>\n",
       "      <td>4.300000</td>\n",
       "      <td>4.31</td>\n",
       "      <td>3.715</td>\n",
       "      <td>62.3</td>\n",
       "      <td>56.0</td>\n",
       "      <td>700.0</td>\n",
       "    </tr>\n",
       "    <tr>\n",
       "      <th>3</th>\n",
       "      <td>1.20</td>\n",
       "      <td>IF</td>\n",
       "      <td>D</td>\n",
       "      <td>IDEAL</td>\n",
       "      <td>5.885787</td>\n",
       "      <td>6.82</td>\n",
       "      <td>4.200</td>\n",
       "      <td>61.7</td>\n",
       "      <td>58.0</td>\n",
       "      <td>10000.0</td>\n",
       "    </tr>\n",
       "    <tr>\n",
       "      <th>4</th>\n",
       "      <td>0.90</td>\n",
       "      <td>I1</td>\n",
       "      <td>J</td>\n",
       "      <td>FAIR</td>\n",
       "      <td>6.000000</td>\n",
       "      <td>5.85</td>\n",
       "      <td>3.700</td>\n",
       "      <td>61.7</td>\n",
       "      <td>56.0</td>\n",
       "      <td>2400.0</td>\n",
       "    </tr>\n",
       "    <tr>\n",
       "      <th>...</th>\n",
       "      <td>...</td>\n",
       "      <td>...</td>\n",
       "      <td>...</td>\n",
       "      <td>...</td>\n",
       "      <td>...</td>\n",
       "      <td>...</td>\n",
       "      <td>...</td>\n",
       "      <td>...</td>\n",
       "      <td>...</td>\n",
       "      <td>...</td>\n",
       "    </tr>\n",
       "    <tr>\n",
       "      <th>195</th>\n",
       "      <td>0.45</td>\n",
       "      <td>SI1</td>\n",
       "      <td>F</td>\n",
       "      <td>VERY GOOD</td>\n",
       "      <td>4.900000</td>\n",
       "      <td>4.89</td>\n",
       "      <td>3.715</td>\n",
       "      <td>62.4</td>\n",
       "      <td>59.0</td>\n",
       "      <td>2300.0</td>\n",
       "    </tr>\n",
       "    <tr>\n",
       "      <th>196</th>\n",
       "      <td>1.25</td>\n",
       "      <td>VVS2</td>\n",
       "      <td>H</td>\n",
       "      <td>GOOD</td>\n",
       "      <td>6.900000</td>\n",
       "      <td>5.85</td>\n",
       "      <td>4.270</td>\n",
       "      <td>62.3</td>\n",
       "      <td>55.0</td>\n",
       "      <td>10400.0</td>\n",
       "    </tr>\n",
       "    <tr>\n",
       "      <th>197</th>\n",
       "      <td>0.55</td>\n",
       "      <td>I1</td>\n",
       "      <td>I</td>\n",
       "      <td>PREMIUM</td>\n",
       "      <td>5.300000</td>\n",
       "      <td>5.85</td>\n",
       "      <td>3.280</td>\n",
       "      <td>62.3</td>\n",
       "      <td>57.0</td>\n",
       "      <td>150000.0</td>\n",
       "    </tr>\n",
       "    <tr>\n",
       "      <th>198</th>\n",
       "      <td>0.85</td>\n",
       "      <td>SI2</td>\n",
       "      <td>E</td>\n",
       "      <td>FAIR</td>\n",
       "      <td>6.100000</td>\n",
       "      <td>6.13</td>\n",
       "      <td>3.780</td>\n",
       "      <td>62.3</td>\n",
       "      <td>58.0</td>\n",
       "      <td>6300.0</td>\n",
       "    </tr>\n",
       "    <tr>\n",
       "      <th>199</th>\n",
       "      <td>0.50</td>\n",
       "      <td>VVS1</td>\n",
       "      <td>G</td>\n",
       "      <td>VERY GOOD</td>\n",
       "      <td>6.400000</td>\n",
       "      <td>6.43</td>\n",
       "      <td>3.970</td>\n",
       "      <td>62.5</td>\n",
       "      <td>56.0</td>\n",
       "      <td>7500.0</td>\n",
       "    </tr>\n",
       "  </tbody>\n",
       "</table>\n",
       "<p>200 rows × 10 columns</p>\n",
       "</div>"
      ],
      "text/plain": [
       "     carat clarity color         cut  x_dimension  y_dimension  z_dimension  \\\n",
       "0     0.50      IF     D       IDEAL     5.100000         5.15        3.200   \n",
       "1     0.70    VVS2     E     PREMIUM     5.700000         5.85        3.520   \n",
       "2     0.50     SI2     H        GOOD     4.300000         4.31        3.715   \n",
       "3     1.20      IF     D       IDEAL     5.885787         6.82        4.200   \n",
       "4     0.90      I1     J        FAIR     6.000000         5.85        3.700   \n",
       "..     ...     ...   ...         ...          ...          ...          ...   \n",
       "195   0.45     SI1     F   VERY GOOD     4.900000         4.89        3.715   \n",
       "196   1.25    VVS2     H        GOOD     6.900000         5.85        4.270   \n",
       "197   0.55      I1     I     PREMIUM     5.300000         5.85        3.280   \n",
       "198   0.85     SI2     E        FAIR     6.100000         6.13        3.780   \n",
       "199   0.50    VVS1     G   VERY GOOD     6.400000         6.43        3.970   \n",
       "\n",
       "     depth  table     price  \n",
       "0     61.5   56.0    3000.0  \n",
       "1     62.0   59.0    4500.0  \n",
       "2     62.3   56.0     700.0  \n",
       "3     61.7   58.0   10000.0  \n",
       "4     61.7   56.0    2400.0  \n",
       "..     ...    ...       ...  \n",
       "195   62.4   59.0    2300.0  \n",
       "196   62.3   55.0   10400.0  \n",
       "197   62.3   57.0  150000.0  \n",
       "198   62.3   58.0    6300.0  \n",
       "199   62.5   56.0    7500.0  \n",
       "\n",
       "[200 rows x 10 columns]"
      ]
     },
     "execution_count": 102,
     "metadata": {},
     "output_type": "execute_result"
    }
   ],
   "source": [
    "df['color']=df['color'].str.upper()\n",
    "df['cut']=df['cut'].str.upper()\n",
    "df['clarity']=df['clarity'].str.upper()\n",
    "df"
   ]
  },
  {
   "cell_type": "markdown",
   "metadata": {},
   "source": [
    "clarity:"
   ]
  },
  {
   "cell_type": "code",
   "execution_count": 103,
   "metadata": {},
   "outputs": [
    {
     "data": {
      "text/plain": [
       "array([' IF', ' VVS2', ' SI2', ' I1', ' SI1', ' VVS1'], dtype=object)"
      ]
     },
     "execution_count": 103,
     "metadata": {},
     "output_type": "execute_result"
    }
   ],
   "source": [
    "df['clarity'].unique()"
   ]
  },
  {
   "cell_type": "markdown",
   "metadata": {},
   "source": [
    "color:"
   ]
  },
  {
   "cell_type": "code",
   "execution_count": 104,
   "metadata": {},
   "outputs": [
    {
     "data": {
      "text/plain": [
       "array([' D', ' E', ' H', ' J', ' G', ' F', ' I', ' COLORLESS'],\n",
       "      dtype=object)"
      ]
     },
     "execution_count": 104,
     "metadata": {},
     "output_type": "execute_result"
    }
   ],
   "source": [
    "df['color'].unique()"
   ]
  },
  {
   "cell_type": "markdown",
   "metadata": {},
   "source": [
    "\"cut:"
   ]
  },
  {
   "cell_type": "code",
   "execution_count": 105,
   "metadata": {},
   "outputs": [
    {
     "data": {
      "text/plain": [
       "array([' IDEAL', ' PREMIUM', ' GOOD', ' FAIR', ' VERY GOOD'], dtype=object)"
      ]
     },
     "execution_count": 105,
     "metadata": {},
     "output_type": "execute_result"
    }
   ],
   "source": [
    "df['cut'].unique()"
   ]
  },
  {
   "cell_type": "markdown",
   "metadata": {},
   "source": [
    "now let`s translate color colorless to mean of color values(acoring to standarization)"
   ]
  },
  {
   "cell_type": "code",
   "execution_count": 106,
   "metadata": {},
   "outputs": [],
   "source": [
    "df['color'].replace('COLORLESS','E',inplace=True,regex=True)"
   ]
  },
  {
   "cell_type": "markdown",
   "metadata": {},
   "source": [
    "now let`s translate categories to numeric - categories scale from internet forums"
   ]
  },
  {
   "cell_type": "code",
   "execution_count": 107,
   "metadata": {},
   "outputs": [],
   "source": [
    "df['clarity'].replace('FL',11,inplace=True,regex=True)\n",
    "df['clarity'].replace('IF',10,inplace=True,regex=True)\n",
    "df['clarity'].replace('VVS2',9,inplace=True,regex=True)\n",
    "df['clarity'].replace('VVS1',8,inplace=True,regex=True)\n",
    "df['clarity'].replace('VS2',7,inplace=True,regex=True)\n",
    "df['clarity'].replace('VS1',6,inplace=True,regex=True)\n",
    "df['clarity'].replace('SI2',5,inplace=True,regex=True)\n",
    "df['clarity'].replace('SI1',4,inplace=True,regex=True)\n",
    "df['clarity'].replace('I1',3,inplace=True,regex=True)\n",
    "df['clarity'].replace('I2',2,inplace=True,regex=True)\n",
    "df['clarity'].replace('I3',1,inplace=True,regex=True)\n",
    "\n",
    "df['color'].replace('D',8,inplace=True,regex=True)\n",
    "df['color'].replace('E',7,inplace=True,regex=True)\n",
    "df['color'].replace('F',6,inplace=True,regex=True)\n",
    "df['color'].replace('G',5,inplace=True,regex=True)\n",
    "df['color'].replace('H',4,inplace=True,regex=True)\n",
    "df['color'].replace('I',3,inplace=True,regex=True)\n",
    "df['color'].replace('J',2,inplace=True,regex=True)\n",
    "df['color'].replace('K',1,inplace=True,regex=True)\n",
    "\n",
    "df['cut'].replace('IDEAL',5,inplace=True,regex=True)\n",
    "df['cut'].replace('PREMIUM',4,inplace=True,regex=True)\n",
    "df['cut'].replace('GOOD',3,inplace=True,regex=True)\n",
    "df['cut'].replace('FAIR',2,inplace=True,regex=True)\n",
    "df['cut'].replace('\tVERY GOOD',1,inplace=True,regex=True)"
   ]
  },
  {
   "cell_type": "markdown",
   "metadata": {},
   "source": [
    "and lets change data type of those columns to numeric"
   ]
  },
  {
   "cell_type": "code",
   "execution_count": 108,
   "metadata": {},
   "outputs": [],
   "source": [
    "df['clarity']=df['clarity'].astype('float64')\n",
    "df['color']=df['color'].astype('float64')\n",
    "df['cut']=df['cut'].astype('float64')"
   ]
  },
  {
   "cell_type": "markdown",
   "metadata": {},
   "source": [
    "now lets check for outliers"
   ]
  },
  {
   "cell_type": "code",
   "execution_count": 109,
   "metadata": {},
   "outputs": [
    {
     "data": {
      "text/plain": [
       "count    200.00000\n",
       "mean       0.72425\n",
       "std        0.30724\n",
       "min        0.20000\n",
       "25%        0.50000\n",
       "50%        0.57500\n",
       "75%        0.95000\n",
       "max        1.60000\n",
       "Name: carat, dtype: float64"
      ]
     },
     "execution_count": 109,
     "metadata": {},
     "output_type": "execute_result"
    }
   ],
   "source": [
    "df['carat'].describe()"
   ]
  },
  {
   "cell_type": "code",
   "execution_count": 110,
   "metadata": {},
   "outputs": [
    {
     "data": {
      "text/plain": [
       "count    200.000000\n",
       "mean       5.885787\n",
       "std        0.764344\n",
       "min        3.900000\n",
       "25%        5.300000\n",
       "50%        5.900000\n",
       "75%        6.500000\n",
       "max        7.300000\n",
       "Name: x_dimension, dtype: float64"
      ]
     },
     "execution_count": 110,
     "metadata": {},
     "output_type": "execute_result"
    }
   ],
   "source": [
    "df['x_dimension'].describe()"
   ]
  },
  {
   "cell_type": "code",
   "execution_count": 111,
   "metadata": {},
   "outputs": [
    {
     "data": {
      "text/plain": [
       "count    200.000000\n",
       "mean       5.836200\n",
       "std        0.632138\n",
       "min        3.890000\n",
       "25%        5.580000\n",
       "50%        5.850000\n",
       "75%        6.165000\n",
       "max        7.280000\n",
       "Name: y_dimension, dtype: float64"
      ]
     },
     "execution_count": 111,
     "metadata": {},
     "output_type": "execute_result"
    }
   ],
   "source": [
    "df['y_dimension'].describe()"
   ]
  },
  {
   "cell_type": "code",
   "execution_count": 112,
   "metadata": {},
   "outputs": [
    {
     "data": {
      "text/plain": [
       "count    200.000000\n",
       "mean       3.699550\n",
       "std        0.402912\n",
       "min        2.410000\n",
       "25%        3.477500\n",
       "50%        3.715000\n",
       "75%        3.970000\n",
       "max        4.500000\n",
       "Name: z_dimension, dtype: float64"
      ]
     },
     "execution_count": 112,
     "metadata": {},
     "output_type": "execute_result"
    }
   ],
   "source": [
    "df['z_dimension'].describe()"
   ]
  },
  {
   "cell_type": "code",
   "execution_count": 113,
   "metadata": {},
   "outputs": [
    {
     "data": {
      "text/plain": [
       "count       200.000000\n",
       "mean      11410.714286\n",
       "std       39667.884273\n",
       "min         500.000000\n",
       "25%        2600.000000\n",
       "50%        4450.000000\n",
       "75%        8025.000000\n",
       "max      350000.000000\n",
       "Name: price, dtype: float64"
      ]
     },
     "execution_count": 113,
     "metadata": {},
     "output_type": "execute_result"
    }
   ],
   "source": [
    "df['price'].describe()"
   ]
  },
  {
   "cell_type": "markdown",
   "metadata": {},
   "source": [
    "price and carat should be cleared of outliers, especially price. lets check if price quantile range of 4 to 97 will do the job "
   ]
  },
  {
   "cell_type": "code",
   "execution_count": 114,
   "metadata": {},
   "outputs": [],
   "source": [
    "low=df['price'].quantile(0.04)\n",
    "high = df['price'].quantile(0.97)\n",
    "df=df[(df['price']>=low )& (df['price']<=high)]"
   ]
  },
  {
   "cell_type": "markdown",
   "metadata": {},
   "source": [
    "now for carat, min seems good enought, lets filter max "
   ]
  },
  {
   "cell_type": "code",
   "execution_count": 115,
   "metadata": {},
   "outputs": [
    {
     "data": {
      "text/plain": [
       "count    186.000000\n",
       "mean       0.733602\n",
       "std        0.300742\n",
       "min        0.350000\n",
       "25%        0.500000\n",
       "50%        0.600000\n",
       "75%        0.950000\n",
       "max        1.600000\n",
       "Name: carat, dtype: float64"
      ]
     },
     "execution_count": 115,
     "metadata": {},
     "output_type": "execute_result"
    }
   ],
   "source": [
    "df['carat'].describe()"
   ]
  },
  {
   "cell_type": "code",
   "execution_count": 116,
   "metadata": {},
   "outputs": [
    {
     "name": "stdout",
     "output_type": "stream",
     "text": [
      "quantiles 99 = 1.4150000000000005\n",
      "nope lets go for 95\n",
      "quantiles 95 = 1.3\n"
     ]
    },
    {
     "data": {
      "text/plain": [
       "count    179.000000\n",
       "mean       0.706425\n",
       "std        0.272010\n",
       "min        0.350000\n",
       "25%        0.500000\n",
       "50%        0.600000\n",
       "75%        0.900000\n",
       "max        1.300000\n",
       "Name: carat, dtype: float64"
      ]
     },
     "execution_count": 116,
     "metadata": {},
     "output_type": "execute_result"
    }
   ],
   "source": [
    "high = df['carat'].quantile(0.99)\n",
    "print(f'quantiles 99 = {high}')\n",
    "print('nope lets go for 95')\n",
    "high = df['carat'].quantile(0.95)\n",
    "print(f'quantiles 95 = {high}')\n",
    "df=df[(df['carat']<=high )]\n",
    "df['carat'].describe()"
   ]
  },
  {
   "cell_type": "markdown",
   "metadata": {},
   "source": [
    "how many records do we have now(199 at the begining)?"
   ]
  },
  {
   "cell_type": "code",
   "execution_count": 117,
   "metadata": {},
   "outputs": [
    {
     "data": {
      "text/plain": [
       "179"
      ]
     },
     "execution_count": 117,
     "metadata": {},
     "output_type": "execute_result"
    }
   ],
   "source": [
    "len(df)"
   ]
  },
  {
   "cell_type": "markdown",
   "metadata": {},
   "source": [
    "lets stay there, difference is smaller that in original data set"
   ]
  },
  {
   "cell_type": "markdown",
   "metadata": {},
   "source": [
    "lets see current dataframe"
   ]
  },
  {
   "cell_type": "code",
   "execution_count": 118,
   "metadata": {},
   "outputs": [
    {
     "data": {
      "text/html": [
       "<div>\n",
       "<style scoped>\n",
       "    .dataframe tbody tr th:only-of-type {\n",
       "        vertical-align: middle;\n",
       "    }\n",
       "\n",
       "    .dataframe tbody tr th {\n",
       "        vertical-align: top;\n",
       "    }\n",
       "\n",
       "    .dataframe thead th {\n",
       "        text-align: right;\n",
       "    }\n",
       "</style>\n",
       "<table border=\"1\" class=\"dataframe\">\n",
       "  <thead>\n",
       "    <tr style=\"text-align: right;\">\n",
       "      <th></th>\n",
       "      <th>0</th>\n",
       "      <th>1</th>\n",
       "      <th>3</th>\n",
       "      <th>4</th>\n",
       "      <th>5</th>\n",
       "      <th>6</th>\n",
       "      <th>7</th>\n",
       "      <th>8</th>\n",
       "      <th>9</th>\n",
       "      <th>10</th>\n",
       "      <th>...</th>\n",
       "      <th>186</th>\n",
       "      <th>190</th>\n",
       "      <th>191</th>\n",
       "      <th>192</th>\n",
       "      <th>193</th>\n",
       "      <th>194</th>\n",
       "      <th>195</th>\n",
       "      <th>196</th>\n",
       "      <th>198</th>\n",
       "      <th>199</th>\n",
       "    </tr>\n",
       "  </thead>\n",
       "  <tbody>\n",
       "    <tr>\n",
       "      <th>carat</th>\n",
       "      <td>0.50</td>\n",
       "      <td>0.70</td>\n",
       "      <td>1.200000</td>\n",
       "      <td>0.90</td>\n",
       "      <td>0.50</td>\n",
       "      <td>0.50</td>\n",
       "      <td>0.40</td>\n",
       "      <td>0.500000</td>\n",
       "      <td>1.00</td>\n",
       "      <td>0.500000</td>\n",
       "      <td>...</td>\n",
       "      <td>0.500</td>\n",
       "      <td>0.65</td>\n",
       "      <td>1.15</td>\n",
       "      <td>0.40</td>\n",
       "      <td>0.50</td>\n",
       "      <td>0.95</td>\n",
       "      <td>0.450</td>\n",
       "      <td>1.25</td>\n",
       "      <td>0.85</td>\n",
       "      <td>0.50</td>\n",
       "    </tr>\n",
       "    <tr>\n",
       "      <th>clarity</th>\n",
       "      <td>10.00</td>\n",
       "      <td>9.00</td>\n",
       "      <td>10.000000</td>\n",
       "      <td>3.00</td>\n",
       "      <td>4.00</td>\n",
       "      <td>10.00</td>\n",
       "      <td>8.00</td>\n",
       "      <td>5.000000</td>\n",
       "      <td>8.00</td>\n",
       "      <td>4.000000</td>\n",
       "      <td>...</td>\n",
       "      <td>5.000</td>\n",
       "      <td>5.00</td>\n",
       "      <td>8.00</td>\n",
       "      <td>5.00</td>\n",
       "      <td>9.00</td>\n",
       "      <td>4.00</td>\n",
       "      <td>4.000</td>\n",
       "      <td>9.00</td>\n",
       "      <td>5.00</td>\n",
       "      <td>8.00</td>\n",
       "    </tr>\n",
       "    <tr>\n",
       "      <th>color</th>\n",
       "      <td>8.00</td>\n",
       "      <td>7.00</td>\n",
       "      <td>8.000000</td>\n",
       "      <td>2.00</td>\n",
       "      <td>5.00</td>\n",
       "      <td>8.00</td>\n",
       "      <td>6.00</td>\n",
       "      <td>3.000000</td>\n",
       "      <td>6.00</td>\n",
       "      <td>7.000000</td>\n",
       "      <td>...</td>\n",
       "      <td>7.000</td>\n",
       "      <td>6.00</td>\n",
       "      <td>5.00</td>\n",
       "      <td>4.00</td>\n",
       "      <td>7.00</td>\n",
       "      <td>5.00</td>\n",
       "      <td>6.000</td>\n",
       "      <td>4.00</td>\n",
       "      <td>7.00</td>\n",
       "      <td>5.00</td>\n",
       "    </tr>\n",
       "    <tr>\n",
       "      <th>cut</th>\n",
       "      <td>5.00</td>\n",
       "      <td>4.00</td>\n",
       "      <td>5.000000</td>\n",
       "      <td>2.00</td>\n",
       "      <td>3.00</td>\n",
       "      <td>5.00</td>\n",
       "      <td>3.00</td>\n",
       "      <td>3.000000</td>\n",
       "      <td>5.00</td>\n",
       "      <td>4.000000</td>\n",
       "      <td>...</td>\n",
       "      <td>4.000</td>\n",
       "      <td>3.00</td>\n",
       "      <td>4.00</td>\n",
       "      <td>2.00</td>\n",
       "      <td>3.00</td>\n",
       "      <td>5.00</td>\n",
       "      <td>3.000</td>\n",
       "      <td>3.00</td>\n",
       "      <td>2.00</td>\n",
       "      <td>3.00</td>\n",
       "    </tr>\n",
       "    <tr>\n",
       "      <th>x_dimension</th>\n",
       "      <td>5.10</td>\n",
       "      <td>5.70</td>\n",
       "      <td>5.885787</td>\n",
       "      <td>6.00</td>\n",
       "      <td>5.90</td>\n",
       "      <td>5.10</td>\n",
       "      <td>4.80</td>\n",
       "      <td>4.300000</td>\n",
       "      <td>6.40</td>\n",
       "      <td>5.885787</td>\n",
       "      <td>...</td>\n",
       "      <td>5.100</td>\n",
       "      <td>5.50</td>\n",
       "      <td>6.80</td>\n",
       "      <td>4.70</td>\n",
       "      <td>6.30</td>\n",
       "      <td>6.40</td>\n",
       "      <td>4.900</td>\n",
       "      <td>6.90</td>\n",
       "      <td>6.10</td>\n",
       "      <td>6.40</td>\n",
       "    </tr>\n",
       "    <tr>\n",
       "      <th>y_dimension</th>\n",
       "      <td>5.15</td>\n",
       "      <td>5.85</td>\n",
       "      <td>6.820000</td>\n",
       "      <td>5.85</td>\n",
       "      <td>5.92</td>\n",
       "      <td>5.85</td>\n",
       "      <td>4.79</td>\n",
       "      <td>4.320000</td>\n",
       "      <td>5.85</td>\n",
       "      <td>5.210000</td>\n",
       "      <td>...</td>\n",
       "      <td>5.110</td>\n",
       "      <td>5.85</td>\n",
       "      <td>6.85</td>\n",
       "      <td>5.85</td>\n",
       "      <td>5.85</td>\n",
       "      <td>6.42</td>\n",
       "      <td>4.890</td>\n",
       "      <td>5.85</td>\n",
       "      <td>6.13</td>\n",
       "      <td>6.43</td>\n",
       "    </tr>\n",
       "    <tr>\n",
       "      <th>z_dimension</th>\n",
       "      <td>3.20</td>\n",
       "      <td>3.52</td>\n",
       "      <td>4.200000</td>\n",
       "      <td>3.70</td>\n",
       "      <td>3.63</td>\n",
       "      <td>3.20</td>\n",
       "      <td>2.95</td>\n",
       "      <td>3.715000</td>\n",
       "      <td>4.00</td>\n",
       "      <td>3.210000</td>\n",
       "      <td>...</td>\n",
       "      <td>3.715</td>\n",
       "      <td>3.41</td>\n",
       "      <td>4.23</td>\n",
       "      <td>2.91</td>\n",
       "      <td>3.90</td>\n",
       "      <td>3.96</td>\n",
       "      <td>3.715</td>\n",
       "      <td>4.27</td>\n",
       "      <td>3.78</td>\n",
       "      <td>3.97</td>\n",
       "    </tr>\n",
       "    <tr>\n",
       "      <th>depth</th>\n",
       "      <td>61.50</td>\n",
       "      <td>62.00</td>\n",
       "      <td>61.700000</td>\n",
       "      <td>61.70</td>\n",
       "      <td>62.30</td>\n",
       "      <td>61.50</td>\n",
       "      <td>62.30</td>\n",
       "      <td>62.300000</td>\n",
       "      <td>62.30</td>\n",
       "      <td>61.600000</td>\n",
       "      <td>...</td>\n",
       "      <td>62.500</td>\n",
       "      <td>62.30</td>\n",
       "      <td>62.70</td>\n",
       "      <td>62.10</td>\n",
       "      <td>62.30</td>\n",
       "      <td>62.30</td>\n",
       "      <td>62.400</td>\n",
       "      <td>62.30</td>\n",
       "      <td>62.30</td>\n",
       "      <td>62.50</td>\n",
       "    </tr>\n",
       "    <tr>\n",
       "      <th>table</th>\n",
       "      <td>56.00</td>\n",
       "      <td>59.00</td>\n",
       "      <td>58.000000</td>\n",
       "      <td>56.00</td>\n",
       "      <td>57.00</td>\n",
       "      <td>57.00</td>\n",
       "      <td>56.00</td>\n",
       "      <td>56.000000</td>\n",
       "      <td>58.00</td>\n",
       "      <td>58.000000</td>\n",
       "      <td>...</td>\n",
       "      <td>55.000</td>\n",
       "      <td>57.00</td>\n",
       "      <td>56.00</td>\n",
       "      <td>58.00</td>\n",
       "      <td>58.00</td>\n",
       "      <td>56.00</td>\n",
       "      <td>59.000</td>\n",
       "      <td>55.00</td>\n",
       "      <td>58.00</td>\n",
       "      <td>56.00</td>\n",
       "    </tr>\n",
       "    <tr>\n",
       "      <th>price</th>\n",
       "      <td>3000.00</td>\n",
       "      <td>4500.00</td>\n",
       "      <td>10000.000000</td>\n",
       "      <td>2400.00</td>\n",
       "      <td>4200.00</td>\n",
       "      <td>3100.00</td>\n",
       "      <td>1500.00</td>\n",
       "      <td>11410.714286</td>\n",
       "      <td>7500.00</td>\n",
       "      <td>11410.714286</td>\n",
       "      <td>...</td>\n",
       "      <td>2900.000</td>\n",
       "      <td>3400.00</td>\n",
       "      <td>9800.00</td>\n",
       "      <td>2000.00</td>\n",
       "      <td>7700.00</td>\n",
       "      <td>7100.00</td>\n",
       "      <td>2300.000</td>\n",
       "      <td>10400.00</td>\n",
       "      <td>6300.00</td>\n",
       "      <td>7500.00</td>\n",
       "    </tr>\n",
       "  </tbody>\n",
       "</table>\n",
       "<p>10 rows × 179 columns</p>\n",
       "</div>"
      ],
      "text/plain": [
       "                 0        1             3        4        5        6    \\\n",
       "carat           0.50     0.70      1.200000     0.90     0.50     0.50   \n",
       "clarity        10.00     9.00     10.000000     3.00     4.00    10.00   \n",
       "color           8.00     7.00      8.000000     2.00     5.00     8.00   \n",
       "cut             5.00     4.00      5.000000     2.00     3.00     5.00   \n",
       "x_dimension     5.10     5.70      5.885787     6.00     5.90     5.10   \n",
       "y_dimension     5.15     5.85      6.820000     5.85     5.92     5.85   \n",
       "z_dimension     3.20     3.52      4.200000     3.70     3.63     3.20   \n",
       "depth          61.50    62.00     61.700000    61.70    62.30    61.50   \n",
       "table          56.00    59.00     58.000000    56.00    57.00    57.00   \n",
       "price        3000.00  4500.00  10000.000000  2400.00  4200.00  3100.00   \n",
       "\n",
       "                 7             8        9             10   ...       186  \\\n",
       "carat           0.40      0.500000     1.00      0.500000  ...     0.500   \n",
       "clarity         8.00      5.000000     8.00      4.000000  ...     5.000   \n",
       "color           6.00      3.000000     6.00      7.000000  ...     7.000   \n",
       "cut             3.00      3.000000     5.00      4.000000  ...     4.000   \n",
       "x_dimension     4.80      4.300000     6.40      5.885787  ...     5.100   \n",
       "y_dimension     4.79      4.320000     5.85      5.210000  ...     5.110   \n",
       "z_dimension     2.95      3.715000     4.00      3.210000  ...     3.715   \n",
       "depth          62.30     62.300000    62.30     61.600000  ...    62.500   \n",
       "table          56.00     56.000000    58.00     58.000000  ...    55.000   \n",
       "price        1500.00  11410.714286  7500.00  11410.714286  ...  2900.000   \n",
       "\n",
       "                 190      191      192      193      194       195       196  \\\n",
       "carat           0.65     1.15     0.40     0.50     0.95     0.450      1.25   \n",
       "clarity         5.00     8.00     5.00     9.00     4.00     4.000      9.00   \n",
       "color           6.00     5.00     4.00     7.00     5.00     6.000      4.00   \n",
       "cut             3.00     4.00     2.00     3.00     5.00     3.000      3.00   \n",
       "x_dimension     5.50     6.80     4.70     6.30     6.40     4.900      6.90   \n",
       "y_dimension     5.85     6.85     5.85     5.85     6.42     4.890      5.85   \n",
       "z_dimension     3.41     4.23     2.91     3.90     3.96     3.715      4.27   \n",
       "depth          62.30    62.70    62.10    62.30    62.30    62.400     62.30   \n",
       "table          57.00    56.00    58.00    58.00    56.00    59.000     55.00   \n",
       "price        3400.00  9800.00  2000.00  7700.00  7100.00  2300.000  10400.00   \n",
       "\n",
       "                 198      199  \n",
       "carat           0.85     0.50  \n",
       "clarity         5.00     8.00  \n",
       "color           7.00     5.00  \n",
       "cut             2.00     3.00  \n",
       "x_dimension     6.10     6.40  \n",
       "y_dimension     6.13     6.43  \n",
       "z_dimension     3.78     3.97  \n",
       "depth          62.30    62.50  \n",
       "table          58.00    56.00  \n",
       "price        6300.00  7500.00  \n",
       "\n",
       "[10 rows x 179 columns]"
      ]
     },
     "execution_count": 118,
     "metadata": {},
     "output_type": "execute_result"
    }
   ],
   "source": [
    "df.T"
   ]
  },
  {
   "cell_type": "markdown",
   "metadata": {},
   "source": [
    "not let`s visualize data"
   ]
  },
  {
   "cell_type": "code",
   "execution_count": 119,
   "metadata": {},
   "outputs": [
    {
     "data": {
      "image/png": "[encoded data removed]",
      "text/plain": [
       "<Figure size 640x480 with 1 Axes>"
      ]
     },
     "metadata": {},
     "output_type": "display_data"
    }
   ],
   "source": [
    "fig, ax = plt.subplots()"
   ]
  },
  {
   "cell_type": "code",
   "execution_count": 120,
   "metadata": {},
   "outputs": [],
   "source": [
    "df_grouped=df\n",
    "list_with_categories=(\"clarity\",\"color\",\"cut\",\"carat\", \"x_dimension\",\"y_dimension\",\"z_dimension\",\"depth\", \"table\",\"price\")\n",
    "for x in list_with_categories:\n",
    "    df_grouped[x]= (df_grouped[x]-df_grouped[x].mean())/df_grouped[x].std()"
   ]
  },
  {
   "cell_type": "markdown",
   "metadata": {},
   "source": [
    "lets select clarity for example"
   ]
  },
  {
   "cell_type": "code",
   "execution_count": 121,
   "metadata": {},
   "outputs": [],
   "source": [
    "selected_category=\"clarity\""
   ]
  },
  {
   "cell_type": "markdown",
   "metadata": {},
   "source": [
    "draw violn plot"
   ]
  },
  {
   "cell_type": "code",
   "execution_count": 122,
   "metadata": {},
   "outputs": [
    {
     "data": {
      "image/png": "[encoded data removed]",
      "text/plain": [
       "<Figure size 640x480 with 1 Axes>"
      ]
     },
     "execution_count": 122,
     "metadata": {},
     "output_type": "execute_result"
    }
   ],
   "source": [
    "ax.violinplot(df[selected_category])\n",
    "fig"
   ]
  },
  {
   "cell_type": "markdown",
   "metadata": {},
   "source": [
    "draw histogram plot"
   ]
  },
  {
   "cell_type": "code",
   "execution_count": 123,
   "metadata": {},
   "outputs": [
    {
     "data": {
      "image/png": "[encoded data removed]",
      "text/plain": [
       "<Figure size 640x480 with 1 Axes>"
      ]
     },
     "execution_count": 123,
     "metadata": {},
     "output_type": "execute_result"
    }
   ],
   "source": [
    "ax.hist(df[selected_category],bins=len(df[selected_category].unique()))\n",
    "fig"
   ]
  },
  {
   "cell_type": "markdown",
   "metadata": {},
   "source": [
    "draw box plot"
   ]
  },
  {
   "cell_type": "code",
   "execution_count": 124,
   "metadata": {},
   "outputs": [
    {
     "data": {
      "image/png": "[encoded data removed]",
      "text/plain": [
       "<Figure size 640x480 with 1 Axes>"
      ]
     },
     "metadata": {},
     "output_type": "display_data"
    }
   ],
   "source": [
    "df_grouped=df_grouped.groupby([selected_category]).sum()\n",
    "df_grouped=df_grouped.div(df_grouped.sum(axis=1), axis=0)\n",
    "ax=sns.boxplot(df_grouped, showfliers = False)"
   ]
  },
  {
   "cell_type": "markdown",
   "metadata": {},
   "source": [
    "draw heatmap, figsize set for better color scale"
   ]
  },
  {
   "cell_type": "code",
   "execution_count": 125,
   "metadata": {},
   "outputs": [],
   "source": [
    "# commented as it is quiet long\n",
    "\n",
    "# fig, ax = plt.subplots(figsize=(5, 20))\n",
    "# df_grouped=df_grouped.groupby([selected_category]).sum()\n",
    "# df_grouped=df_grouped.div(df_grouped.sum(axis=1), axis=0)\n",
    "# ax=sns.heatmap(df_grouped,annot=True, cmap=plt.cm.hot,vmin=-2,vmax=2, linewidths=.25)"
   ]
  },
  {
   "cell_type": "markdown",
   "metadata": {},
   "source": [
    "now lets check for single category impact"
   ]
  },
  {
   "cell_type": "code",
   "execution_count": 126,
   "metadata": {},
   "outputs": [
    {
     "data": {
      "text/plain": [
       "<matplotlib.collections.PathCollection at 0x27a9c45c510>"
      ]
     },
     "execution_count": 126,
     "metadata": {},
     "output_type": "execute_result"
    },
    {
     "data": {
      "image/png": "[encoded data removed]",
      "text/plain": [
       "<Figure size 640x480 with 1 Axes>"
      ]
     },
     "metadata": {},
     "output_type": "display_data"
    }
   ],
   "source": [
    "df_fitted=df\n",
    "fig, ax = plt.subplots()\n",
    "for x in list_with_categories:\n",
    "    df_fitted[x]= ((df_fitted[x]-df_fitted[x].mean())/df_fitted[x].std())\n",
    "model = smf.ols(formula=\"price ~ \"+selected_category,data= df).fit()\n",
    "\n",
    "df_fitted['fitted']=model.fittedvalues\n",
    "model.summary()\n",
    "ax.scatter( x=df_fitted[selected_category], y=df_fitted['price'])\n"
   ]
  },
  {
   "cell_type": "code",
   "execution_count": 127,
   "metadata": {},
   "outputs": [
    {
     "data": {
      "text/plain": [
       "<matplotlib.collections.PathCollection at 0x27a9c418310>"
      ]
     },
     "execution_count": 127,
     "metadata": {},
     "output_type": "execute_result"
    },
    {
     "data": {
      "image/png": "[encoded data removed]",
      "text/plain": [
       "<Figure size 640x480 with 1 Axes>"
      ]
     },
     "metadata": {},
     "output_type": "display_data"
    }
   ],
   "source": [
    "fig, ax = plt.subplots()\n",
    "ax.scatter( x=df_fitted[selected_category], y=df_fitted['fitted'])"
   ]
  },
  {
   "cell_type": "markdown",
   "metadata": {},
   "source": [
    "and multiple variables impact"
   ]
  },
  {
   "cell_type": "markdown",
   "metadata": {},
   "source": [
    "stats"
   ]
  },
  {
   "cell_type": "code",
   "execution_count": 128,
   "metadata": {},
   "outputs": [
    {
     "data": {
      "text/html": [
       "<table class=\"simpletable\">\n",
       "<caption>OLS Regression Results</caption>\n",
       "<tr>\n",
       "  <th>Dep. Variable:</th>          <td>price</td>      <th>  R-squared:         </th> <td>   0.132</td>\n",
       "</tr>\n",
       "<tr>\n",
       "  <th>Model:</th>                   <td>OLS</td>       <th>  Adj. R-squared:    </th> <td>   0.117</td>\n",
       "</tr>\n",
       "<tr>\n",
       "  <th>Method:</th>             <td>Least Squares</td>  <th>  F-statistic:       </th> <td>   8.841</td>\n",
       "</tr>\n",
       "<tr>\n",
       "  <th>Date:</th>             <td>Sat, 03 Feb 2024</td> <th>  Prob (F-statistic):</th> <td>1.73e-05</td>\n",
       "</tr>\n",
       "<tr>\n",
       "  <th>Time:</th>                 <td>18:08:58</td>     <th>  Log-Likelihood:    </th> <td> -240.86</td>\n",
       "</tr>\n",
       "<tr>\n",
       "  <th>No. Observations:</th>      <td>   179</td>      <th>  AIC:               </th> <td>   489.7</td>\n",
       "</tr>\n",
       "<tr>\n",
       "  <th>Df Residuals:</th>          <td>   175</td>      <th>  BIC:               </th> <td>   502.5</td>\n",
       "</tr>\n",
       "<tr>\n",
       "  <th>Df Model:</th>              <td>     3</td>      <th>                     </th>     <td> </td>   \n",
       "</tr>\n",
       "<tr>\n",
       "  <th>Covariance Type:</th>      <td>nonrobust</td>    <th>                     </th>     <td> </td>   \n",
       "</tr>\n",
       "</table>\n",
       "<table class=\"simpletable\">\n",
       "<tr>\n",
       "      <td></td>         <th>coef</th>     <th>std err</th>      <th>t</th>      <th>P>|t|</th>  <th>[0.025</th>    <th>0.975]</th>  \n",
       "</tr>\n",
       "<tr>\n",
       "  <th>Intercept</th> <td>         0</td> <td>    0.070</td> <td>        0</td> <td> 1.000</td> <td>   -0.139</td> <td>    0.139</td>\n",
       "</tr>\n",
       "<tr>\n",
       "  <th>clarity</th>   <td>    0.2824</td> <td>    0.072</td> <td>    3.917</td> <td> 0.000</td> <td>    0.140</td> <td>    0.425</td>\n",
       "</tr>\n",
       "<tr>\n",
       "  <th>color</th>     <td>    0.1225</td> <td>    0.072</td> <td>    1.709</td> <td> 0.089</td> <td>   -0.019</td> <td>    0.264</td>\n",
       "</tr>\n",
       "<tr>\n",
       "  <th>depth</th>     <td>    0.2074</td> <td>    0.071</td> <td>    2.917</td> <td> 0.004</td> <td>    0.067</td> <td>    0.348</td>\n",
       "</tr>\n",
       "</table>\n",
       "<table class=\"simpletable\">\n",
       "<tr>\n",
       "  <th>Omnibus:</th>       <td>11.780</td> <th>  Durbin-Watson:     </th> <td>   2.525</td>\n",
       "</tr>\n",
       "<tr>\n",
       "  <th>Prob(Omnibus):</th> <td> 0.003</td> <th>  Jarque-Bera (JB):  </th> <td>  12.338</td>\n",
       "</tr>\n",
       "<tr>\n",
       "  <th>Skew:</th>          <td> 0.610</td> <th>  Prob(JB):          </th> <td> 0.00209</td>\n",
       "</tr>\n",
       "<tr>\n",
       "  <th>Kurtosis:</th>      <td> 2.595</td> <th>  Cond. No.          </th> <td>    1.25</td>\n",
       "</tr>\n",
       "</table><br/><br/>Notes:<br/>[1] Standard Errors assume that the covariance matrix of the errors is correctly specified."
      ],
      "text/latex": [
       "\\begin{center}\n",
       "\\begin{tabular}{lclc}\n",
       "\\toprule\n",
       "\\textbf{Dep. Variable:}    &      price       & \\textbf{  R-squared:         } &     0.132   \\\\\n",
       "\\textbf{Model:}            &       OLS        & \\textbf{  Adj. R-squared:    } &     0.117   \\\\\n",
       "\\textbf{Method:}           &  Least Squares   & \\textbf{  F-statistic:       } &     8.841   \\\\\n",
       "\\textbf{Date:}             & Sat, 03 Feb 2024 & \\textbf{  Prob (F-statistic):} &  1.73e-05   \\\\\n",
       "\\textbf{Time:}             &     18:08:58     & \\textbf{  Log-Likelihood:    } &   -240.86   \\\\\n",
       "\\textbf{No. Observations:} &         179      & \\textbf{  AIC:               } &     489.7   \\\\\n",
       "\\textbf{Df Residuals:}     &         175      & \\textbf{  BIC:               } &     502.5   \\\\\n",
       "\\textbf{Df Model:}         &           3      & \\textbf{                     } &             \\\\\n",
       "\\textbf{Covariance Type:}  &    nonrobust     & \\textbf{                     } &             \\\\\n",
       "\\bottomrule\n",
       "\\end{tabular}\n",
       "\\begin{tabular}{lcccccc}\n",
       "                   & \\textbf{coef} & \\textbf{std err} & \\textbf{t} & \\textbf{P$> |$t$|$} & \\textbf{[0.025} & \\textbf{0.975]}  \\\\\n",
       "\\midrule\n",
       "\\textbf{Intercept} &            0  &        0.070     &         0  &         1.000        &       -0.139    &        0.139     \\\\\n",
       "\\textbf{clarity}   &       0.2824  &        0.072     &     3.917  &         0.000        &        0.140    &        0.425     \\\\\n",
       "\\textbf{color}     &       0.1225  &        0.072     &     1.709  &         0.089        &       -0.019    &        0.264     \\\\\n",
       "\\textbf{depth}     &       0.2074  &        0.071     &     2.917  &         0.004        &        0.067    &        0.348     \\\\\n",
       "\\bottomrule\n",
       "\\end{tabular}\n",
       "\\begin{tabular}{lclc}\n",
       "\\textbf{Omnibus:}       & 11.780 & \\textbf{  Durbin-Watson:     } &    2.525  \\\\\n",
       "\\textbf{Prob(Omnibus):} &  0.003 & \\textbf{  Jarque-Bera (JB):  } &   12.338  \\\\\n",
       "\\textbf{Skew:}          &  0.610 & \\textbf{  Prob(JB):          } &  0.00209  \\\\\n",
       "\\textbf{Kurtosis:}      &  2.595 & \\textbf{  Cond. No.          } &     1.25  \\\\\n",
       "\\bottomrule\n",
       "\\end{tabular}\n",
       "%\\caption{OLS Regression Results}\n",
       "\\end{center}\n",
       "\n",
       "Notes: \\newline\n",
       " [1] Standard Errors assume that the covariance matrix of the errors is correctly specified."
      ],
      "text/plain": [
       "<class 'statsmodels.iolib.summary.Summary'>\n",
       "\"\"\"\n",
       "                            OLS Regression Results                            \n",
       "==============================================================================\n",
       "Dep. Variable:                  price   R-squared:                       0.132\n",
       "Model:                            OLS   Adj. R-squared:                  0.117\n",
       "Method:                 Least Squares   F-statistic:                     8.841\n",
       "Date:                Sat, 03 Feb 2024   Prob (F-statistic):           1.73e-05\n",
       "Time:                        18:08:58   Log-Likelihood:                -240.86\n",
       "No. Observations:                 179   AIC:                             489.7\n",
       "Df Residuals:                     175   BIC:                             502.5\n",
       "Df Model:                           3                                         \n",
       "Covariance Type:            nonrobust                                         \n",
       "==============================================================================\n",
       "                 coef    std err          t      P>|t|      [0.025      0.975]\n",
       "------------------------------------------------------------------------------\n",
       "Intercept           0      0.070          0      1.000      -0.139       0.139\n",
       "clarity        0.2824      0.072      3.917      0.000       0.140       0.425\n",
       "color          0.1225      0.072      1.709      0.089      -0.019       0.264\n",
       "depth          0.2074      0.071      2.917      0.004       0.067       0.348\n",
       "==============================================================================\n",
       "Omnibus:                       11.780   Durbin-Watson:                   2.525\n",
       "Prob(Omnibus):                  0.003   Jarque-Bera (JB):               12.338\n",
       "Skew:                           0.610   Prob(JB):                      0.00209\n",
       "Kurtosis:                       2.595   Cond. No.                         1.25\n",
       "==============================================================================\n",
       "\n",
       "Notes:\n",
       "[1] Standard Errors assume that the covariance matrix of the errors is correctly specified.\n",
       "\"\"\""
      ]
     },
     "execution_count": 128,
     "metadata": {},
     "output_type": "execute_result"
    }
   ],
   "source": [
    "selected_categories=(\"clarity\",\"color\",\"depth\")\n",
    "formula_string=\"price ~ \"\n",
    "for x in selected_categories:\n",
    "    if x.index == 0:\n",
    "        formula_string=formula_string+\" \"+x\n",
    "    else:\n",
    "        formula_string=formula_string+ \" + \"+x\n",
    "model = smf.ols(formula_string,data= df).fit()\n",
    "df_fitted['fitted']=model.fittedvalues\n",
    "model.summary()"
   ]
  },
  {
   "cell_type": "markdown",
   "metadata": {},
   "source": [
    "correrlation"
   ]
  },
  {
   "cell_type": "code",
   "execution_count": 129,
   "metadata": {},
   "outputs": [
    {
     "data": {
      "text/html": [
       "<div>\n",
       "<style scoped>\n",
       "    .dataframe tbody tr th:only-of-type {\n",
       "        vertical-align: middle;\n",
       "    }\n",
       "\n",
       "    .dataframe tbody tr th {\n",
       "        vertical-align: top;\n",
       "    }\n",
       "\n",
       "    .dataframe thead th {\n",
       "        text-align: right;\n",
       "    }\n",
       "</style>\n",
       "<table border=\"1\" class=\"dataframe\">\n",
       "  <thead>\n",
       "    <tr style=\"text-align: right;\">\n",
       "      <th></th>\n",
       "      <th>clarity</th>\n",
       "      <th>color</th>\n",
       "      <th>depth</th>\n",
       "    </tr>\n",
       "  </thead>\n",
       "  <tbody>\n",
       "    <tr>\n",
       "      <th>clarity</th>\n",
       "      <td>1.000000</td>\n",
       "      <td>0.177998</td>\n",
       "      <td>-0.127536</td>\n",
       "    </tr>\n",
       "    <tr>\n",
       "      <th>color</th>\n",
       "      <td>0.177998</td>\n",
       "      <td>1.000000</td>\n",
       "      <td>-0.068987</td>\n",
       "    </tr>\n",
       "    <tr>\n",
       "      <th>depth</th>\n",
       "      <td>-0.127536</td>\n",
       "      <td>-0.068987</td>\n",
       "      <td>1.000000</td>\n",
       "    </tr>\n",
       "  </tbody>\n",
       "</table>\n",
       "</div>"
      ],
      "text/plain": [
       "          clarity     color     depth\n",
       "clarity  1.000000  0.177998 -0.127536\n",
       "color    0.177998  1.000000 -0.068987\n",
       "depth   -0.127536 -0.068987  1.000000"
      ]
     },
     "execution_count": 129,
     "metadata": {},
     "output_type": "execute_result"
    }
   ],
   "source": [
    "\n",
    "df_corr=df[df.columns.intersection(list_with_categories).intersection(selected_categories)]\n",
    "df_corr.corr()"
   ]
  },
  {
   "cell_type": "markdown",
   "metadata": {},
   "source": [
    "ssr"
   ]
  },
  {
   "cell_type": "code",
   "execution_count": 130,
   "metadata": {},
   "outputs": [
    {
     "data": {
      "text/plain": [
       "154.57295287442102"
      ]
     },
     "execution_count": 130,
     "metadata": {},
     "output_type": "execute_result"
    }
   ],
   "source": [
    "model.ssr"
   ]
  },
  {
   "cell_type": "markdown",
   "metadata": {},
   "source": [
    "and heat map "
   ]
  },
  {
   "cell_type": "code",
   "execution_count": 131,
   "metadata": {},
   "outputs": [
    {
     "data": {
      "text/plain": [
       "<matplotlib.image.AxesImage at 0x27a9c0b1150>"
      ]
     },
     "execution_count": 131,
     "metadata": {},
     "output_type": "execute_result"
    },
    {
     "data": {
      "image/png": "[encoded data removed]",
      "text/plain": [
       "<Figure size 640x480 with 1 Axes>"
      ]
     },
     "metadata": {},
     "output_type": "display_data"
    }
   ],
   "source": [
    "fig, ax = plt.subplots()\n",
    "ax.imshow(df_corr.corr(),cmap=plt.cm.hot)"
   ]
  },
  {
   "cell_type": "markdown",
   "metadata": {},
   "source": [
    "now lets do same thing, but for categories selected by author"
   ]
  },
  {
   "cell_type": "code",
   "execution_count": 132,
   "metadata": {},
   "outputs": [
    {
     "name": "stderr",
     "output_type": "stream",
     "text": [
      "C:\\Users\\MJ\\AppData\\Local\\Temp\\ipykernel_21228\\3222938336.py:4: SettingWithCopyWarning: \n",
      "A value is trying to be set on a copy of a slice from a DataFrame.\n",
      "Try using .loc[row_indexer,col_indexer] = value instead\n",
      "\n",
      "See the caveats in the documentation: https://pandas.pydata.org/pandas-docs/stable/user_guide/indexing.html#returning-a-view-versus-a-copy\n",
      "  df_selected[x]= ((df_selected[x]-df_selected[x].mean())/df_selected[x].std())\n"
     ]
    }
   ],
   "source": [
    "selected_list=(\"clarity\", \"x_dimension\",\"y_dimension\",\"carat\",\"table\")\n",
    "df_selected=df[df.columns.intersection(selected_list)]\n",
    "for x in selected_list:\n",
    "    df_selected[x]= ((df_selected[x]-df_selected[x].mean())/df_selected[x].std())"
   ]
  },
  {
   "cell_type": "markdown",
   "metadata": {},
   "source": [
    "correlation"
   ]
  },
  {
   "cell_type": "code",
   "execution_count": 133,
   "metadata": {},
   "outputs": [
    {
     "data": {
      "text/html": [
       "<div>\n",
       "<style scoped>\n",
       "    .dataframe tbody tr th:only-of-type {\n",
       "        vertical-align: middle;\n",
       "    }\n",
       "\n",
       "    .dataframe tbody tr th {\n",
       "        vertical-align: top;\n",
       "    }\n",
       "\n",
       "    .dataframe thead th {\n",
       "        text-align: right;\n",
       "    }\n",
       "</style>\n",
       "<table border=\"1\" class=\"dataframe\">\n",
       "  <thead>\n",
       "    <tr style=\"text-align: right;\">\n",
       "      <th></th>\n",
       "      <th>carat</th>\n",
       "      <th>clarity</th>\n",
       "      <th>x_dimension</th>\n",
       "      <th>y_dimension</th>\n",
       "      <th>table</th>\n",
       "    </tr>\n",
       "  </thead>\n",
       "  <tbody>\n",
       "    <tr>\n",
       "      <th>carat</th>\n",
       "      <td>1.000000</td>\n",
       "      <td>-0.021325</td>\n",
       "      <td>0.733969</td>\n",
       "      <td>0.544973</td>\n",
       "      <td>0.174985</td>\n",
       "    </tr>\n",
       "    <tr>\n",
       "      <th>clarity</th>\n",
       "      <td>-0.021325</td>\n",
       "      <td>1.000000</td>\n",
       "      <td>0.083394</td>\n",
       "      <td>0.099742</td>\n",
       "      <td>0.142715</td>\n",
       "    </tr>\n",
       "    <tr>\n",
       "      <th>x_dimension</th>\n",
       "      <td>0.733969</td>\n",
       "      <td>0.083394</td>\n",
       "      <td>1.000000</td>\n",
       "      <td>0.799047</td>\n",
       "      <td>0.173764</td>\n",
       "    </tr>\n",
       "    <tr>\n",
       "      <th>y_dimension</th>\n",
       "      <td>0.544973</td>\n",
       "      <td>0.099742</td>\n",
       "      <td>0.799047</td>\n",
       "      <td>1.000000</td>\n",
       "      <td>0.125935</td>\n",
       "    </tr>\n",
       "    <tr>\n",
       "      <th>table</th>\n",
       "      <td>0.174985</td>\n",
       "      <td>0.142715</td>\n",
       "      <td>0.173764</td>\n",
       "      <td>0.125935</td>\n",
       "      <td>1.000000</td>\n",
       "    </tr>\n",
       "  </tbody>\n",
       "</table>\n",
       "</div>"
      ],
      "text/plain": [
       "                carat   clarity  x_dimension  y_dimension     table\n",
       "carat        1.000000 -0.021325     0.733969     0.544973  0.174985\n",
       "clarity     -0.021325  1.000000     0.083394     0.099742  0.142715\n",
       "x_dimension  0.733969  0.083394     1.000000     0.799047  0.173764\n",
       "y_dimension  0.544973  0.099742     0.799047     1.000000  0.125935\n",
       "table        0.174985  0.142715     0.173764     0.125935  1.000000"
      ]
     },
     "execution_count": 133,
     "metadata": {},
     "output_type": "execute_result"
    }
   ],
   "source": [
    "df_selected.corr()"
   ]
  },
  {
   "cell_type": "markdown",
   "metadata": {},
   "source": [
    "model"
   ]
  },
  {
   "cell_type": "code",
   "execution_count": 134,
   "metadata": {},
   "outputs": [],
   "source": [
    "formula_string=\"price ~ \"\n",
    "for x in selected_list:\n",
    "    if x.index == 0:\n",
    "        formula_string=formula_string+\" \"+x\n",
    "    else:\n",
    "        formula_string=formula_string+ \" + \"+x\n",
    "model = smf.ols(formula_string,data= df).fit()"
   ]
  },
  {
   "cell_type": "markdown",
   "metadata": {},
   "source": [
    "stats"
   ]
  },
  {
   "cell_type": "code",
   "execution_count": 135,
   "metadata": {},
   "outputs": [
    {
     "data": {
      "text/html": [
       "<table class=\"simpletable\">\n",
       "<caption>OLS Regression Results</caption>\n",
       "<tr>\n",
       "  <th>Dep. Variable:</th>          <td>price</td>      <th>  R-squared:         </th> <td>   0.739</td>\n",
       "</tr>\n",
       "<tr>\n",
       "  <th>Model:</th>                   <td>OLS</td>       <th>  Adj. R-squared:    </th> <td>   0.732</td>\n",
       "</tr>\n",
       "<tr>\n",
       "  <th>Method:</th>             <td>Least Squares</td>  <th>  F-statistic:       </th> <td>   98.16</td>\n",
       "</tr>\n",
       "<tr>\n",
       "  <th>Date:</th>             <td>Sat, 03 Feb 2024</td> <th>  Prob (F-statistic):</th> <td>1.21e-48</td>\n",
       "</tr>\n",
       "<tr>\n",
       "  <th>Time:</th>                 <td>18:08:59</td>     <th>  Log-Likelihood:    </th> <td> -133.14</td>\n",
       "</tr>\n",
       "<tr>\n",
       "  <th>No. Observations:</th>      <td>   179</td>      <th>  AIC:               </th> <td>   278.3</td>\n",
       "</tr>\n",
       "<tr>\n",
       "  <th>Df Residuals:</th>          <td>   173</td>      <th>  BIC:               </th> <td>   297.4</td>\n",
       "</tr>\n",
       "<tr>\n",
       "  <th>Df Model:</th>              <td>     5</td>      <th>                     </th>     <td> </td>   \n",
       "</tr>\n",
       "<tr>\n",
       "  <th>Covariance Type:</th>      <td>nonrobust</td>    <th>                     </th>     <td> </td>   \n",
       "</tr>\n",
       "</table>\n",
       "<table class=\"simpletable\">\n",
       "<tr>\n",
       "       <td></td>          <th>coef</th>     <th>std err</th>      <th>t</th>      <th>P>|t|</th>  <th>[0.025</th>    <th>0.975]</th>  \n",
       "</tr>\n",
       "<tr>\n",
       "  <th>Intercept</th>   <td>         0</td> <td>    0.039</td> <td>        0</td> <td> 1.000</td> <td>   -0.076</td> <td>    0.076</td>\n",
       "</tr>\n",
       "<tr>\n",
       "  <th>clarity</th>     <td>    0.2326</td> <td>    0.040</td> <td>    5.862</td> <td> 0.000</td> <td>    0.154</td> <td>    0.311</td>\n",
       "</tr>\n",
       "<tr>\n",
       "  <th>x_dimension</th> <td>    0.6528</td> <td>    0.080</td> <td>    8.117</td> <td> 0.000</td> <td>    0.494</td> <td>    0.812</td>\n",
       "</tr>\n",
       "<tr>\n",
       "  <th>y_dimension</th> <td>   -0.1466</td> <td>    0.065</td> <td>   -2.257</td> <td> 0.025</td> <td>   -0.275</td> <td>   -0.018</td>\n",
       "</tr>\n",
       "<tr>\n",
       "  <th>carat</th>       <td>    0.3062</td> <td>    0.058</td> <td>    5.273</td> <td> 0.000</td> <td>    0.192</td> <td>    0.421</td>\n",
       "</tr>\n",
       "<tr>\n",
       "  <th>table</th>       <td>    0.0827</td> <td>    0.040</td> <td>    2.072</td> <td> 0.040</td> <td>    0.004</td> <td>    0.161</td>\n",
       "</tr>\n",
       "</table>\n",
       "<table class=\"simpletable\">\n",
       "<tr>\n",
       "  <th>Omnibus:</th>       <td>163.935</td> <th>  Durbin-Watson:     </th> <td>   2.289</td>\n",
       "</tr>\n",
       "<tr>\n",
       "  <th>Prob(Omnibus):</th> <td> 0.000</td>  <th>  Jarque-Bera (JB):  </th> <td>3121.773</td>\n",
       "</tr>\n",
       "<tr>\n",
       "  <th>Skew:</th>          <td> 3.368</td>  <th>  Prob(JB):          </th> <td>    0.00</td>\n",
       "</tr>\n",
       "<tr>\n",
       "  <th>Kurtosis:</th>      <td>22.318</td>  <th>  Cond. No.          </th> <td>    4.05</td>\n",
       "</tr>\n",
       "</table><br/><br/>Notes:<br/>[1] Standard Errors assume that the covariance matrix of the errors is correctly specified."
      ],
      "text/latex": [
       "\\begin{center}\n",
       "\\begin{tabular}{lclc}\n",
       "\\toprule\n",
       "\\textbf{Dep. Variable:}    &      price       & \\textbf{  R-squared:         } &     0.739   \\\\\n",
       "\\textbf{Model:}            &       OLS        & \\textbf{  Adj. R-squared:    } &     0.732   \\\\\n",
       "\\textbf{Method:}           &  Least Squares   & \\textbf{  F-statistic:       } &     98.16   \\\\\n",
       "\\textbf{Date:}             & Sat, 03 Feb 2024 & \\textbf{  Prob (F-statistic):} &  1.21e-48   \\\\\n",
       "\\textbf{Time:}             &     18:08:59     & \\textbf{  Log-Likelihood:    } &   -133.14   \\\\\n",
       "\\textbf{No. Observations:} &         179      & \\textbf{  AIC:               } &     278.3   \\\\\n",
       "\\textbf{Df Residuals:}     &         173      & \\textbf{  BIC:               } &     297.4   \\\\\n",
       "\\textbf{Df Model:}         &           5      & \\textbf{                     } &             \\\\\n",
       "\\textbf{Covariance Type:}  &    nonrobust     & \\textbf{                     } &             \\\\\n",
       "\\bottomrule\n",
       "\\end{tabular}\n",
       "\\begin{tabular}{lcccccc}\n",
       "                      & \\textbf{coef} & \\textbf{std err} & \\textbf{t} & \\textbf{P$> |$t$|$} & \\textbf{[0.025} & \\textbf{0.975]}  \\\\\n",
       "\\midrule\n",
       "\\textbf{Intercept}    &            0  &        0.039     &         0  &         1.000        &       -0.076    &        0.076     \\\\\n",
       "\\textbf{clarity}      &       0.2326  &        0.040     &     5.862  &         0.000        &        0.154    &        0.311     \\\\\n",
       "\\textbf{x\\_dimension} &       0.6528  &        0.080     &     8.117  &         0.000        &        0.494    &        0.812     \\\\\n",
       "\\textbf{y\\_dimension} &      -0.1466  &        0.065     &    -2.257  &         0.025        &       -0.275    &       -0.018     \\\\\n",
       "\\textbf{carat}        &       0.3062  &        0.058     &     5.273  &         0.000        &        0.192    &        0.421     \\\\\n",
       "\\textbf{table}        &       0.0827  &        0.040     &     2.072  &         0.040        &        0.004    &        0.161     \\\\\n",
       "\\bottomrule\n",
       "\\end{tabular}\n",
       "\\begin{tabular}{lclc}\n",
       "\\textbf{Omnibus:}       & 163.935 & \\textbf{  Durbin-Watson:     } &    2.289  \\\\\n",
       "\\textbf{Prob(Omnibus):} &   0.000 & \\textbf{  Jarque-Bera (JB):  } & 3121.773  \\\\\n",
       "\\textbf{Skew:}          &   3.368 & \\textbf{  Prob(JB):          } &     0.00  \\\\\n",
       "\\textbf{Kurtosis:}      &  22.318 & \\textbf{  Cond. No.          } &     4.05  \\\\\n",
       "\\bottomrule\n",
       "\\end{tabular}\n",
       "%\\caption{OLS Regression Results}\n",
       "\\end{center}\n",
       "\n",
       "Notes: \\newline\n",
       " [1] Standard Errors assume that the covariance matrix of the errors is correctly specified."
      ],
      "text/plain": [
       "<class 'statsmodels.iolib.summary.Summary'>\n",
       "\"\"\"\n",
       "                            OLS Regression Results                            \n",
       "==============================================================================\n",
       "Dep. Variable:                  price   R-squared:                       0.739\n",
       "Model:                            OLS   Adj. R-squared:                  0.732\n",
       "Method:                 Least Squares   F-statistic:                     98.16\n",
       "Date:                Sat, 03 Feb 2024   Prob (F-statistic):           1.21e-48\n",
       "Time:                        18:08:59   Log-Likelihood:                -133.14\n",
       "No. Observations:                 179   AIC:                             278.3\n",
       "Df Residuals:                     173   BIC:                             297.4\n",
       "Df Model:                           5                                         \n",
       "Covariance Type:            nonrobust                                         \n",
       "===============================================================================\n",
       "                  coef    std err          t      P>|t|      [0.025      0.975]\n",
       "-------------------------------------------------------------------------------\n",
       "Intercept            0      0.039          0      1.000      -0.076       0.076\n",
       "clarity         0.2326      0.040      5.862      0.000       0.154       0.311\n",
       "x_dimension     0.6528      0.080      8.117      0.000       0.494       0.812\n",
       "y_dimension    -0.1466      0.065     -2.257      0.025      -0.275      -0.018\n",
       "carat           0.3062      0.058      5.273      0.000       0.192       0.421\n",
       "table           0.0827      0.040      2.072      0.040       0.004       0.161\n",
       "==============================================================================\n",
       "Omnibus:                      163.935   Durbin-Watson:                   2.289\n",
       "Prob(Omnibus):                  0.000   Jarque-Bera (JB):             3121.773\n",
       "Skew:                           3.368   Prob(JB):                         0.00\n",
       "Kurtosis:                      22.318   Cond. No.                         4.05\n",
       "==============================================================================\n",
       "\n",
       "Notes:\n",
       "[1] Standard Errors assume that the covariance matrix of the errors is correctly specified.\n",
       "\"\"\""
      ]
     },
     "execution_count": 135,
     "metadata": {},
     "output_type": "execute_result"
    }
   ],
   "source": [
    "model.summary()"
   ]
  },
  {
   "cell_type": "markdown",
   "metadata": {},
   "source": [
    "ssr"
   ]
  },
  {
   "cell_type": "code",
   "execution_count": 136,
   "metadata": {},
   "outputs": [
    {
     "data": {
      "text/plain": [
       "46.39157746321362"
      ]
     },
     "execution_count": 136,
     "metadata": {},
     "output_type": "execute_result"
    }
   ],
   "source": [
    "model.ssr"
   ]
  }
 ],
 "metadata": {
  "kernelspec": {
   "display_name": "base",
   "language": "python",
   "name": "python3"
  },
  "language_info": {
   "codemirror_mode": {
    "name": "ipython",
    "version": 3
   },
   "file_extension": ".py",
   "mimetype": "text/x-python",
   "name": "python",
   "nbconvert_exporter": "python",
   "pygments_lexer": "ipython3",
   "version": "3.11.5"
  }
 },
 "nbformat": 4,
 "nbformat_minor": 2
}
